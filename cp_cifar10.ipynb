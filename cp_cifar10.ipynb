{
 "cells": [
  {
   "cell_type": "markdown",
   "metadata": {},
   "source": [
    "## Conformal Prediction on CIFAR10"
   ]
  },
  {
   "cell_type": "markdown",
   "metadata": {},
   "source": [
    "Importing necessary libraries\n"
   ]
  },
  {
   "cell_type": "code",
   "execution_count": 1,
   "metadata": {},
   "outputs": [
    {
     "name": "stderr",
     "output_type": "stream",
     "text": [
      "/home/vannsh.jani/miniconda3/lib/python3.11/site-packages/astra/torch/data.py:12: UserWarning: TORCH_HOME not set, setting it to /home/vannsh.jani/.cache/torch\n",
      "  warnings.warn(f\"TORCH_HOME not set, setting it to {os.environ['TORCH_HOME']}\")\n"
     ]
    }
   ],
   "source": [
    "import os\n",
    "os.environ[\"CUDA_VISIBLE_DEVICES\"] = \"2\"\n",
    "import torch\n",
    "import torch.nn as nn\n",
    "from sklearn.model_selection import train_test_split\n",
    "from sklearn.metrics import accuracy_score, precision_score, recall_score, f1_score\n",
    "import pandas as pd\n",
    "import numpy as np\n",
    "import matplotlib.pyplot as plt\n",
    "try:\n",
    "    from astra.torch.data import load_cifar_10\n",
    "    from astra.torch.utils import train_fn\n",
    "    from astra.torch.models import ResNetClassifier, EfficientNetClassifier\n",
    "except:\n",
    "    %pip install git+https://github.com/sustainability-lab/ASTRA\n",
    "    from astra.torch.data import load_cifar_10\n",
    "    from astra.torch.utils import train_fn\n",
    "    from astra.torch.models import ResNetClassifier, EfficientNetClassifier"
   ]
  },
  {
   "cell_type": "markdown",
   "metadata": {},
   "source": [
    "Dataset"
   ]
  },
  {
   "cell_type": "code",
   "execution_count": 2,
   "metadata": {},
   "outputs": [
    {
     "name": "stdout",
     "output_type": "stream",
     "text": [
      "Files already downloaded and verified\n",
      "Files already downloaded and verified\n"
     ]
    },
    {
     "data": {
      "text/plain": [
       "\n",
       "CIFAR-10 Dataset\n",
       "length of dataset: 60000\n",
       "shape of images: torch.Size([3, 32, 32])\n",
       "len of classes: 10\n",
       "classes: ['airplane', 'automobile', 'bird', 'cat', 'deer', 'dog', 'frog', 'horse', 'ship', 'truck']\n",
       "dtype of images: torch.float32\n",
       "dtype of labels: torch.int64\n",
       "range of image values: min=0.0, max=1.0\n",
       "            "
      ]
     },
     "execution_count": 2,
     "metadata": {},
     "output_type": "execute_result"
    }
   ],
   "source": [
    "dataset = load_cifar_10()\n",
    "dataset"
   ]
  },
  {
   "cell_type": "code",
   "execution_count": 3,
   "metadata": {},
   "outputs": [
    {
     "data": {
      "text/plain": [
       "(torch.Size([60000, 3, 32, 32]), torch.Size([60000]))"
      ]
     },
     "execution_count": 3,
     "metadata": {},
     "output_type": "execute_result"
    }
   ],
   "source": [
    "features = dataset.data\n",
    "targets = dataset.targets\n",
    "features.shape, targets.shape"
   ]
  },
  {
   "cell_type": "markdown",
   "metadata": {},
   "source": [
    "One vs rest setting (Active class = 2)"
   ]
  },
  {
   "cell_type": "code",
   "execution_count": 4,
   "metadata": {},
   "outputs": [
    {
     "name": "stdout",
     "output_type": "stream",
     "text": [
      "tensor([6, 9, 9, 4, 1, 1, 2, 7, 8, 3])\n",
      "tensor([0, 0, 0, 0, 0, 0, 1, 0, 0, 0])\n"
     ]
    }
   ],
   "source": [
    "print(targets[:10])\n",
    "targets_temp = torch.where(targets !=2, 0, targets)\n",
    "targets = torch.where(targets_temp ==2, 1, targets_temp)\n",
    "print(targets[:10])"
   ]
  },
  {
   "cell_type": "markdown",
   "metadata": {},
   "source": [
    "Splittling Data into train, test and callibration set"
   ]
  },
  {
   "cell_type": "code",
   "execution_count": 5,
   "metadata": {},
   "outputs": [
    {
     "data": {
      "text/plain": [
       "(torch.Size([10000, 3, 32, 32]),\n",
       " torch.Size([10000, 3, 32, 32]),\n",
       " torch.Size([40000, 3, 32, 32]))"
      ]
     },
     "execution_count": 5,
     "metadata": {},
     "output_type": "execute_result"
    }
   ],
   "source": [
    "X_train_cal, X_test, y_train_cal, y_test = train_test_split(features, targets, test_size=2/3, random_state=42)\n",
    "X_train, X_cal, y_train, y_cal = train_test_split(X_train_cal, y_train_cal, test_size=0.5, random_state=42)\n",
    "X_train.shape, X_cal.shape, X_test.shape"
   ]
  },
  {
   "cell_type": "markdown",
   "metadata": {},
   "source": [
    "Training"
   ]
  },
  {
   "cell_type": "code",
   "execution_count": 6,
   "metadata": {},
   "outputs": [
    {
     "data": {
      "text/plain": [
       "device(type='cuda')"
      ]
     },
     "execution_count": 6,
     "metadata": {},
     "output_type": "execute_result"
    }
   ],
   "source": [
    "device = torch.device(\"cuda\" if torch.cuda.is_available() else \"cpu\")\n",
    "device"
   ]
  },
  {
   "cell_type": "code",
   "execution_count": 7,
   "metadata": {},
   "outputs": [
    {
     "name": "stdout",
     "output_type": "stream",
     "text": [
      "Training efficientnet...\n"
     ]
    },
    {
     "name": "stderr",
     "output_type": "stream",
     "text": [
      "Loss: 0.01442743: 100%|██████████| 20/20 [00:16<00:00,  1.18it/s]\n"
     ]
    },
    {
     "name": "stdout",
     "output_type": "stream",
     "text": [
      "Training resnet...\n"
     ]
    },
    {
     "name": "stderr",
     "output_type": "stream",
     "text": [
      "Loss: 0.00419181: 100%|██████████| 20/20 [00:05<00:00,  3.79it/s]\n"
     ]
    }
   ],
   "source": [
    "models = {\"efficientnet\": EfficientNetClassifier(n_classes=2), \"resnet\": ResNetClassifier(n_classes=2)}\n",
    "for name, model in models.items():\n",
    "    print(f\"Training {name}...\")\n",
    "    epoch_loss,iter_loss = train_fn(model.to(device), nn.CrossEntropyLoss(), X_train, y_train, lr=1e-3, batch_size=1024, epochs=20)\n",
    "    # model.to(\"cpu\")\n",
    "    \n",
    "    "
   ]
  },
  {
   "cell_type": "markdown",
   "metadata": {},
   "source": [
    "Evaluation"
   ]
  },
  {
   "cell_type": "code",
   "execution_count": 8,
   "metadata": {},
   "outputs": [],
   "source": [
    "def results(y_test,y_pred):\n",
    "    acc = accuracy_score(y_test, y_pred)\n",
    "    prec = precision_score(y_test, y_pred, average='binary')\n",
    "    rec = recall_score(y_test, y_pred, average='binary')\n",
    "    f1 = f1_score(y_test, y_pred, average='binary')\n",
    "    return [acc, prec, rec, f1]\n",
    "    \n",
    "def tabulate_results(result_dict):\n",
    "    df = pd.DataFrame(result_dict)\n",
    "    df.index = ['Accuracy', 'Precision', 'Recall', 'F1']\n",
    "    return df\n",
    "\n",
    "def softmax(y_pred):\n",
    "    return torch.exp(y_pred)/torch.sum(torch.exp(y_pred), dim=1, keepdim=True)"
   ]
  },
  {
   "cell_type": "code",
   "execution_count": 9,
   "metadata": {},
   "outputs": [
    {
     "name": "stderr",
     "output_type": "stream",
     "text": [
      "100%|██████████| 40/40 [00:01<00:00, 32.85it/s]\n",
      "100%|██████████| 40/40 [00:00<00:00, 104.99it/s]\n"
     ]
    },
    {
     "data": {
      "text/html": [
       "<div>\n",
       "<style scoped>\n",
       "    .dataframe tbody tr th:only-of-type {\n",
       "        vertical-align: middle;\n",
       "    }\n",
       "\n",
       "    .dataframe tbody tr th {\n",
       "        vertical-align: top;\n",
       "    }\n",
       "\n",
       "    .dataframe thead th {\n",
       "        text-align: right;\n",
       "    }\n",
       "</style>\n",
       "<table border=\"1\" class=\"dataframe\">\n",
       "  <thead>\n",
       "    <tr style=\"text-align: right;\">\n",
       "      <th></th>\n",
       "      <th>efficientnet</th>\n",
       "      <th>resnet</th>\n",
       "    </tr>\n",
       "  </thead>\n",
       "  <tbody>\n",
       "    <tr>\n",
       "      <th>Accuracy</th>\n",
       "      <td>0.922325</td>\n",
       "      <td>0.941250</td>\n",
       "    </tr>\n",
       "    <tr>\n",
       "      <th>Precision</th>\n",
       "      <td>0.664736</td>\n",
       "      <td>0.796725</td>\n",
       "    </tr>\n",
       "    <tr>\n",
       "      <th>Recall</th>\n",
       "      <td>0.457058</td>\n",
       "      <td>0.557132</td>\n",
       "    </tr>\n",
       "    <tr>\n",
       "      <th>F1</th>\n",
       "      <td>0.541673</td>\n",
       "      <td>0.655728</td>\n",
       "    </tr>\n",
       "  </tbody>\n",
       "</table>\n",
       "</div>"
      ],
      "text/plain": [
       "           efficientnet    resnet\n",
       "Accuracy       0.922325  0.941250\n",
       "Precision      0.664736  0.796725\n",
       "Recall         0.457058  0.557132\n",
       "F1             0.541673  0.655728"
      ]
     },
     "execution_count": 9,
     "metadata": {},
     "output_type": "execute_result"
    }
   ],
   "source": [
    "result_dict = {}\n",
    "predictions = {}\n",
    "labels = {}\n",
    "with torch.no_grad():\n",
    "    for name, model in models.items():\n",
    "        pred_y = model.predict(X_test, batch_size=1024).cpu()\n",
    "        prediction_prob = softmax(pred_y)\n",
    "        predicted_labels = torch.argmax(prediction_prob, dim=1)\n",
    "        result_dict[name] = results(y_test, predicted_labels)\n",
    "        predictions[name] = prediction_prob\n",
    "        labels[name] = predicted_labels\n",
    "\n",
    "    \n",
    "\n",
    "df = tabulate_results(result_dict)\n",
    "df"
   ]
  },
  {
   "cell_type": "markdown",
   "metadata": {},
   "source": [
    "Looking at some predictions"
   ]
  },
  {
   "cell_type": "code",
   "execution_count": 10,
   "metadata": {},
   "outputs": [
    {
     "data": {
      "image/png": "[encoded data removed]",
      "text/plain": [
       "<Figure size 1000x1000 with 9 Axes>"
      ]
     },
     "metadata": {},
     "output_type": "display_data"
    }
   ],
   "source": [
    "indices = np.random.randint(0, len(X_test), (9,))\n",
    "fig, axes = plt.subplots(3, 3, figsize=(10, 10))\n",
    "for ax, idx in zip(axes.ravel(),indices):\n",
    "    ax.imshow(torch.einsum(\"chw->hwc\", X_test[idx]))\n",
    "    ax.set_title(f\"Predicted: {predicted_labels[idx]}, Actual: {y_test[idx]}\")\n",
    "    ax.axis(\"off\")"
   ]
  },
  {
   "cell_type": "markdown",
   "metadata": {},
   "source": [
    "### Applying Conformal Prediction"
   ]
  },
  {
   "cell_type": "markdown",
   "metadata": {},
   "source": [
    "Calculating conformity scores"
   ]
  },
  {
   "cell_type": "code",
   "execution_count": 11,
   "metadata": {},
   "outputs": [
    {
     "name": "stderr",
     "output_type": "stream",
     "text": [
      "100%|██████████| 10/10 [00:00<00:00, 35.09it/s]\n",
      "100%|██████████| 10/10 [00:00<00:00, 119.48it/s]\n"
     ]
    },
    {
     "data": {
      "text/plain": [
       "(torch.Size([10000]), torch.Size([10000]))"
      ]
     },
     "execution_count": 11,
     "metadata": {},
     "output_type": "execute_result"
    }
   ],
   "source": [
    "conformity_scores = {}\n",
    "def conformity_score(y_pred,y_true):\n",
    "    scores = softmax(y_pred)\n",
    "    return 1 - torch.where(y_true==0, scores[:,0], scores[:,1])  # 1 - softmax score for true class\n",
    "\n",
    "with torch.no_grad():\n",
    "    for name, model in models.items():\n",
    "        y_pred_cal = model.predict(X_cal, batch_size=1024).cpu()\n",
    "        conformity_scores[name] = conformity_score(y_pred_cal, y_cal)\n",
    "\n",
    "conformity_scores[\"efficientnet\"].shape, conformity_scores[\"resnet\"].shape\n",
    "\n",
    "    "
   ]
  },
  {
   "cell_type": "markdown",
   "metadata": {},
   "source": [
    "Choosing error rate $\\alpha=0.05$.Hence, $\\text P(\\text Y_{\\text {n+1}}\\hspace{0.01cm}\\in \\hspace{0.01cm}\\hat{\\text C}(\\text X_{\\text n+1}))\\hspace{0.01cm} \\gt \\hspace{0.01cm} 1-\\alpha$. The probability that the prediction set contains the true class is atleast 0.95."
   ]
  },
  {
   "cell_type": "code",
   "execution_count": 12,
   "metadata": {},
   "outputs": [],
   "source": [
    "# alpha_values = torch.arange(0.1,1,0.1)\n",
    "# alpha_values"
   ]
  },
  {
   "cell_type": "code",
   "execution_count": 13,
   "metadata": {},
   "outputs": [
    {
     "data": {
      "text/plain": [
       "{'efficientnet': {'0': 0.9999988675117493, '1': 0.5337094068527222},\n",
       " 'resnet': {'0': 0.9999869465827942, '1': 0.9857370853424072}}"
      ]
     },
     "execution_count": 13,
     "metadata": {},
     "output_type": "execute_result"
    }
   ],
   "source": [
    "n = X_cal.shape[0] # calibration samples\n",
    "def calculate_threshold(conformity_scores,n,alpha=0.05):\n",
    "    thresholds = {}\n",
    "    thresholds[\"efficientnet\"] = {}\n",
    "    thresholds[\"resnet\"] = {}\n",
    "    a = torch.ceil(torch.tensor((1-alpha)*(n+1))).item()/n\n",
    "    mask = y_cal==0\n",
    "    for name, scores in conformity_scores.items():\n",
    "        thresholds[name][\"0\"] = (1 - torch.quantile(scores[mask], a)).item()\n",
    "    mask = y_cal==1\n",
    "    for name, scores in conformity_scores.items():\n",
    "        thresholds[name][\"1\"] = (1 - torch.quantile(scores[mask], a)).item()\n",
    "    return thresholds\n",
    "\n",
    "thresholds_05 = calculate_threshold(conformity_scores,n,alpha=0.55) \n",
    "thresholds_05\n"
   ]
  },
  {
   "cell_type": "code",
   "execution_count": 14,
   "metadata": {},
   "outputs": [],
   "source": [
    "# alpha_thresholds = {}\n",
    "# for alpha in alpha_values:\n",
    "#     alpha_thresholds[np.round(alpha.item(),1)] = calculate_threshold(conformity_scores,n,alpha=np.round(alpha.item(),1))\n",
    "# alpha_thresholds"
   ]
  },
  {
   "cell_type": "code",
   "execution_count": 15,
   "metadata": {},
   "outputs": [
    {
     "data": {
      "image/png": "[encoded data removed]",
      "text/plain": [
       "<Figure size 1000x500 with 2 Axes>"
      ]
     },
     "metadata": {},
     "output_type": "display_data"
    }
   ],
   "source": [
    "# plotting bar plots of scores and vlines for 1-threshold\n",
    "fig, axes = plt.subplots(1, 2, figsize=(10, 5))\n",
    "for ax, (name, scores) in zip(axes.ravel(), conformity_scores.items()):\n",
    "    ax.hist(scores.detach().numpy(), bins=50)\n",
    "    ax.vlines(1-thresholds_05[name][\"0\"], 0, 1000, color=\"red\", label=f\"qval={1-thresholds_05[name]['0']:.4f}, alpha=0.05, class-0\")\n",
    "    ax.vlines(1-thresholds_05[name][\"1\"], 0, 1000, color=\"green\",label=f\"qval={1-thresholds_05[name]['1']:.4f}, alpha=0.05, class-1\")\n",
    "    ax.legend()\n",
    "    ax.set_title(name)\n",
    "    ax.set_xlabel(\"Conformity Score\")\n",
    "    ax.set_ylabel(\"Frequency\")"
   ]
  },
  {
   "cell_type": "markdown",
   "metadata": {},
   "source": [
    "Finding out uncertain model predictions (both classes above threshold) and setting them as class 0."
   ]
  },
  {
   "cell_type": "code",
   "execution_count": 16,
   "metadata": {},
   "outputs": [
    {
     "data": {
      "text/plain": [
       "(torch.Size([40000]),\n",
       " torch.Size([40000]),\n",
       " torch.Size([19518]),\n",
       " torch.Size([18483]))"
      ]
     },
     "execution_count": 16,
     "metadata": {},
     "output_type": "execute_result"
    }
   ],
   "source": [
    "def mod_pred(thresholds=thresholds_05,reduce_support=False):\n",
    "   pred_set = {}\n",
    "   for name,pred in predictions.items():\n",
    "      class_0 = torch.where(pred[:,0]<thresholds_05[name]['0'], False, True) # if softmax score below threshold, then False else True for class 0\n",
    "      class_1 = torch.where(pred[:,1]<thresholds_05[name]['1'], False, True) # if softmax score below threshold, then False else True for class 1\n",
    "      pred_set[name] = torch.stack((class_0,class_1),dim=1)\n",
    "      \n",
    "   # modifying predictions\n",
    "   indices = {}\n",
    "   modified_predictions = {}\n",
    "   for name,pred in pred_set.items():\n",
    "      indices[name] = torch.any(pred!=False,dim=1)\n",
    "      if reduce_support:\n",
    "         pred = pred[indices[name]]\n",
    "      modified_predictions[name] = torch.where((pred[:,0] == True) & (pred[:,1] == True), 1, torch.where((pred[:,0] == False) & (pred[:,1] == False), 0, torch.where(pred[:,0] == True, 0, 1)))\n",
    "   return modified_predictions,pred_set,indices\n",
    "\n",
    "modified_predictions,pred_set,indices = mod_pred(reduce_support=True)\n",
    "indices[\"efficientnet\"].shape, indices[\"resnet\"].shape,modified_predictions[\"efficientnet\"].shape, modified_predictions[\"resnet\"].shape"
   ]
  },
  {
   "cell_type": "code",
   "execution_count": 17,
   "metadata": {},
   "outputs": [],
   "source": [
    "# alpha_modified_predictions = {}\n",
    "# alpha_pred_set = {}\n",
    "# alpha_indices = {}\n",
    "# for alpha in alpha_values:\n",
    "#     alpha_modified_predictions[np.round(alpha.item(),1)],alpha_pred_set[np.round(alpha.item(),1)],alpha_indices[np.round(alpha.item(),1)] = mod_pred(alpha_thresholds[np.round(alpha.item(),1)],reduce_support=True)"
   ]
  },
  {
   "cell_type": "code",
   "execution_count": 18,
   "metadata": {},
   "outputs": [
    {
     "data": {
      "text/html": [
       "<div>\n",
       "<style scoped>\n",
       "    .dataframe tbody tr th:only-of-type {\n",
       "        vertical-align: middle;\n",
       "    }\n",
       "\n",
       "    .dataframe tbody tr th {\n",
       "        vertical-align: top;\n",
       "    }\n",
       "\n",
       "    .dataframe thead th {\n",
       "        text-align: right;\n",
       "    }\n",
       "</style>\n",
       "<table border=\"1\" class=\"dataframe\">\n",
       "  <thead>\n",
       "    <tr style=\"text-align: right;\">\n",
       "      <th></th>\n",
       "      <th>efficientnet</th>\n",
       "      <th>resnet</th>\n",
       "    </tr>\n",
       "  </thead>\n",
       "  <tbody>\n",
       "    <tr>\n",
       "      <th>Accuracy</th>\n",
       "      <td>0.940312</td>\n",
       "      <td>0.978142</td>\n",
       "    </tr>\n",
       "    <tr>\n",
       "      <th>Precision</th>\n",
       "      <td>0.671852</td>\n",
       "      <td>0.883300</td>\n",
       "    </tr>\n",
       "    <tr>\n",
       "      <th>Recall</th>\n",
       "      <td>0.866699</td>\n",
       "      <td>0.910788</td>\n",
       "    </tr>\n",
       "    <tr>\n",
       "      <th>F1</th>\n",
       "      <td>0.756937</td>\n",
       "      <td>0.896834</td>\n",
       "    </tr>\n",
       "  </tbody>\n",
       "</table>\n",
       "</div>"
      ],
      "text/plain": [
       "           efficientnet    resnet\n",
       "Accuracy       0.940312  0.978142\n",
       "Precision      0.671852  0.883300\n",
       "Recall         0.866699  0.910788\n",
       "F1             0.756937  0.896834"
      ]
     },
     "execution_count": 18,
     "metadata": {},
     "output_type": "execute_result"
    }
   ],
   "source": [
    "def calc_results(modified_predictions,y_test,reduce_support=False):\n",
    "    result_dict = {}\n",
    "    y_test_original = y_test \n",
    "    for name in modified_predictions.keys():\n",
    "        if reduce_support:\n",
    "            y_test = y_test[indices[name]]\n",
    "        result_dict[name] = results(y_test, modified_predictions[name])\n",
    "        y_test = y_test_original\n",
    "    return result_dict\n",
    "\n",
    "result_dict2 = calc_results(modified_predictions,y_test,reduce_support=True)\n",
    "\n",
    "# alpha_result_dict = {}\n",
    "# for alpha in alpha_values:\n",
    "#     alpha_result_dict[np.round(alpha.item(),1)] = calc_results(alpha_modified_predictions[np.round(alpha.item(),1)],y_test,reduce_support=True)\n",
    "\n",
    "\n",
    "# for alpha in alpha_values:\n",
    "#     print(f\"alpha = {np.round(alpha,1)}\")\n",
    "#     print(tabulate_results(alpha_result_dict[np.round(alpha.item(),1)]))\n",
    "#     print(\"\\n\")\n",
    "df = tabulate_results(result_dict2)\n",
    "df"
   ]
  },
  {
   "cell_type": "code",
   "execution_count": 19,
   "metadata": {},
   "outputs": [
    {
     "name": "stdout",
     "output_type": "stream",
     "text": [
      "Number of images with both classes above threshold: efficientnet = 0\n",
      "Number of images with both classes below threshold(model is uncertain): efficientnet = 20482\n",
      "Number of images with both classes above threshold: resnet = 0\n",
      "Number of images with both classes below threshold(model is uncertain): resnet = 21517\n"
     ]
    }
   ],
   "source": [
    "for name,pred in pred_set.items():\n",
    "    print(\"Number of images with both classes above threshold:\",name,\"=\",(torch.where((pred[:,0] == True) & (pred[:,1] == True))[0].shape)[0])\n",
    "    print(\"Number of images with both classes below threshold(model is uncertain):\",name,\"=\",(torch.where((pred[:,0] == False) & (pred[:,1] == False))[0].shape)[0])"
   ]
  },
  {
   "cell_type": "code",
   "execution_count": null,
   "metadata": {},
   "outputs": [],
   "source": []
  }
 ],
 "metadata": {
  "kernelspec": {
   "display_name": "base",
   "language": "python",
   "name": "python3"
  },
  "language_info": {
   "codemirror_mode": {
    "name": "ipython",
    "version": 3
   },
   "file_extension": ".py",
   "mimetype": "text/x-python",
   "name": "python",
   "nbconvert_exporter": "python",
   "pygments_lexer": "ipython3",
   "version": "3.11.5"
  },
  "orig_nbformat": 4
 },
 "nbformat": 4,
 "nbformat_minor": 2
}
