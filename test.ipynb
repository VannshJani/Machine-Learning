{
 "cells": [
  {
   "cell_type": "code",
   "execution_count": 2,
   "metadata": {},
   "outputs": [],
   "source": [
    "import torch\n",
    "from astra.torch.models import EfficientNetClassifier,EfficientNet,MLPClassifier"
   ]
  },
  {
   "cell_type": "code",
   "execution_count": 8,
   "metadata": {},
   "outputs": [
    {
     "data": {
      "text/plain": [
       "<All keys matched successfully>"
      ]
     },
     "execution_count": 8,
     "metadata": {},
     "output_type": "execute_result"
    }
   ],
   "source": [
    "ecf = EfficientNetClassifier(dense_hidden_dims=[256,100],n_classes=64)\n",
    "# add a final layer to ecf\n",
    "\n",
    "eff = EfficientNet()\n",
    "mlp = MLPClassifier(1280,[256,100],64)\n",
    "torch.save(eff.state_dict(), \"/tmp/tmp2.pt\")\n",
    "ecf.featurizer.load_state_dict(torch.load('/tmp/tmp2.pt'))"
   ]
  },
  {
   "cell_type": "code",
   "execution_count": 9,
   "metadata": {},
   "outputs": [
    {
     "data": {
      "text/plain": [
       "<All keys matched successfully>"
      ]
     },
     "execution_count": 9,
     "metadata": {},
     "output_type": "execute_result"
    }
   ],
   "source": [
    "torch.save(mlp.state_dict(), \"/tmp/tmp3.pt\")\n",
    "ecf.classifier.load_state_dict(torch.load('/tmp/tmp3.pt'))"
   ]
  },
  {
   "cell_type": "code",
   "execution_count": 3,
   "metadata": {},
   "outputs": [
    {
     "data": {
      "text/plain": [
       "==========================================================================================\n",
       "Layer (type:depth-idx)                   Output Shape              Param #\n",
       "==========================================================================================\n",
       "Sequential                               [16, 512]                 --\n",
       "+ Conv2d: 1-1                            [16, 64, 112, 112]        9,408\n",
       "+ BatchNorm2d: 1-2                       [16, 64, 112, 112]        128\n",
       "+ ReLU: 1-3                              [16, 64, 112, 112]        --\n",
       "+ MaxPool2d: 1-4                         [16, 64, 56, 56]          --\n",
       "+ Sequential: 1-5                        [16, 64, 56, 56]          --\n",
       "|    + BasicBlock: 2-1                   [16, 64, 56, 56]          --\n",
       "|    |    + Conv2d: 3-1                  [16, 64, 56, 56]          36,864\n",
       "|    |    + BatchNorm2d: 3-2             [16, 64, 56, 56]          128\n",
       "|    |    + ReLU: 3-3                    [16, 64, 56, 56]          --\n",
       "|    |    + Conv2d: 3-4                  [16, 64, 56, 56]          36,864\n",
       "|    |    + BatchNorm2d: 3-5             [16, 64, 56, 56]          128\n",
       "|    |    + ReLU: 3-6                    [16, 64, 56, 56]          --\n",
       "|    + BasicBlock: 2-2                   [16, 64, 56, 56]          --\n",
       "|    |    + Conv2d: 3-7                  [16, 64, 56, 56]          36,864\n",
       "|    |    + BatchNorm2d: 3-8             [16, 64, 56, 56]          128\n",
       "|    |    + ReLU: 3-9                    [16, 64, 56, 56]          --\n",
       "|    |    + Conv2d: 3-10                 [16, 64, 56, 56]          36,864\n",
       "|    |    + BatchNorm2d: 3-11            [16, 64, 56, 56]          128\n",
       "|    |    + ReLU: 3-12                   [16, 64, 56, 56]          --\n",
       "+ Sequential: 1-6                        [16, 128, 28, 28]         --\n",
       "|    + BasicBlock: 2-3                   [16, 128, 28, 28]         --\n",
       "|    |    + Conv2d: 3-13                 [16, 128, 28, 28]         73,728\n",
       "|    |    + BatchNorm2d: 3-14            [16, 128, 28, 28]         256\n",
       "|    |    + ReLU: 3-15                   [16, 128, 28, 28]         --\n",
       "|    |    + Conv2d: 3-16                 [16, 128, 28, 28]         147,456\n",
       "|    |    + BatchNorm2d: 3-17            [16, 128, 28, 28]         256\n",
       "|    |    + Sequential: 3-18             [16, 128, 28, 28]         8,448\n",
       "|    |    + ReLU: 3-19                   [16, 128, 28, 28]         --\n",
       "|    + BasicBlock: 2-4                   [16, 128, 28, 28]         --\n",
       "|    |    + Conv2d: 3-20                 [16, 128, 28, 28]         147,456\n",
       "|    |    + BatchNorm2d: 3-21            [16, 128, 28, 28]         256\n",
       "|    |    + ReLU: 3-22                   [16, 128, 28, 28]         --\n",
       "|    |    + Conv2d: 3-23                 [16, 128, 28, 28]         147,456\n",
       "|    |    + BatchNorm2d: 3-24            [16, 128, 28, 28]         256\n",
       "|    |    + ReLU: 3-25                   [16, 128, 28, 28]         --\n",
       "+ Sequential: 1-7                        [16, 256, 14, 14]         --\n",
       "|    + BasicBlock: 2-5                   [16, 256, 14, 14]         --\n",
       "|    |    + Conv2d: 3-26                 [16, 256, 14, 14]         294,912\n",
       "|    |    + BatchNorm2d: 3-27            [16, 256, 14, 14]         512\n",
       "|    |    + ReLU: 3-28                   [16, 256, 14, 14]         --\n",
       "|    |    + Conv2d: 3-29                 [16, 256, 14, 14]         589,824\n",
       "|    |    + BatchNorm2d: 3-30            [16, 256, 14, 14]         512\n",
       "|    |    + Sequential: 3-31             [16, 256, 14, 14]         33,280\n",
       "|    |    + ReLU: 3-32                   [16, 256, 14, 14]         --\n",
       "|    + BasicBlock: 2-6                   [16, 256, 14, 14]         --\n",
       "|    |    + Conv2d: 3-33                 [16, 256, 14, 14]         589,824\n",
       "|    |    + BatchNorm2d: 3-34            [16, 256, 14, 14]         512\n",
       "|    |    + ReLU: 3-35                   [16, 256, 14, 14]         --\n",
       "|    |    + Conv2d: 3-36                 [16, 256, 14, 14]         589,824\n",
       "|    |    + BatchNorm2d: 3-37            [16, 256, 14, 14]         512\n",
       "|    |    + ReLU: 3-38                   [16, 256, 14, 14]         --\n",
       "+ Sequential: 1-8                        [16, 512, 7, 7]           --\n",
       "|    + BasicBlock: 2-7                   [16, 512, 7, 7]           --\n",
       "|    |    + Conv2d: 3-39                 [16, 512, 7, 7]           1,179,648\n",
       "|    |    + BatchNorm2d: 3-40            [16, 512, 7, 7]           1,024\n",
       "|    |    + ReLU: 3-41                   [16, 512, 7, 7]           --\n",
       "|    |    + Conv2d: 3-42                 [16, 512, 7, 7]           2,359,296\n",
       "|    |    + BatchNorm2d: 3-43            [16, 512, 7, 7]           1,024\n",
       "|    |    + Sequential: 3-44             [16, 512, 7, 7]           132,096\n",
       "|    |    + ReLU: 3-45                   [16, 512, 7, 7]           --\n",
       "|    + BasicBlock: 2-8                   [16, 512, 7, 7]           --\n",
       "|    |    + Conv2d: 3-46                 [16, 512, 7, 7]           2,359,296\n",
       "|    |    + BatchNorm2d: 3-47            [16, 512, 7, 7]           1,024\n",
       "|    |    + ReLU: 3-48                   [16, 512, 7, 7]           --\n",
       "|    |    + Conv2d: 3-49                 [16, 512, 7, 7]           2,359,296\n",
       "|    |    + BatchNorm2d: 3-50            [16, 512, 7, 7]           1,024\n",
       "|    |    + ReLU: 3-51                   [16, 512, 7, 7]           --\n",
       "+ AdaptiveAvgPool2d: 1-9                 [16, 512, 1, 1]           --\n",
       "+ Flatten: 1-10                          [16, 512]                 --\n",
       "==========================================================================================\n",
       "Total params: 11,176,512\n",
       "Trainable params: 11,176,512\n",
       "Non-trainable params: 0\n",
       "Total mult-adds (Units.GIGABYTES): 29.02\n",
       "==========================================================================================\n",
       "Input size (MB): 9.63\n",
       "Forward/backward pass size (MB): 635.83\n",
       "Params size (MB): 44.71\n",
       "Estimated Total Size (MB): 690.17\n",
       "=========================================================================================="
      ]
     },
     "execution_count": 3,
     "metadata": {},
     "output_type": "execute_result"
    }
   ],
   "source": [
    "import torchvision.models as models\n",
    "import torch.nn as nn\n",
    "from torchinfo import summary\n",
    "\n",
    "model = models.resnet18()\n",
    "layers = list(model.children())[:-1]\n",
    "layers.append(nn.Flatten())\n",
    "vec_model = nn.Sequential(*layers)\n",
    "summary(vec_model, input_size=(16, 3, 224, 224), row_settings=(\"depth\", \"ascii_only\"))"
   ]
  },
  {
   "cell_type": "code",
   "execution_count": 5,
   "metadata": {},
   "outputs": [
    {
     "data": {
      "text/plain": [
       "==========================================================================================\n",
       "Layer (type:depth-idx)                   Output Shape              Param #\n",
       "==========================================================================================\n",
       "ResNet                                   [16, 1000]                --\n",
       "+ Conv2d: 1-1                            [16, 64, 112, 112]        9,408\n",
       "+ BatchNorm2d: 1-2                       [16, 64, 112, 112]        128\n",
       "+ ReLU: 1-3                              [16, 64, 112, 112]        --\n",
       "+ MaxPool2d: 1-4                         [16, 64, 56, 56]          --\n",
       "+ Sequential: 1-5                        [16, 64, 56, 56]          --\n",
       "|    + BasicBlock: 2-1                   [16, 64, 56, 56]          --\n",
       "|    |    + Conv2d: 3-1                  [16, 64, 56, 56]          36,864\n",
       "|    |    + BatchNorm2d: 3-2             [16, 64, 56, 56]          128\n",
       "|    |    + ReLU: 3-3                    [16, 64, 56, 56]          --\n",
       "|    |    + Conv2d: 3-4                  [16, 64, 56, 56]          36,864\n",
       "|    |    + BatchNorm2d: 3-5             [16, 64, 56, 56]          128\n",
       "|    |    + ReLU: 3-6                    [16, 64, 56, 56]          --\n",
       "|    + BasicBlock: 2-2                   [16, 64, 56, 56]          --\n",
       "|    |    + Conv2d: 3-7                  [16, 64, 56, 56]          36,864\n",
       "|    |    + BatchNorm2d: 3-8             [16, 64, 56, 56]          128\n",
       "|    |    + ReLU: 3-9                    [16, 64, 56, 56]          --\n",
       "|    |    + Conv2d: 3-10                 [16, 64, 56, 56]          36,864\n",
       "|    |    + BatchNorm2d: 3-11            [16, 64, 56, 56]          128\n",
       "|    |    + ReLU: 3-12                   [16, 64, 56, 56]          --\n",
       "+ Sequential: 1-6                        [16, 128, 28, 28]         --\n",
       "|    + BasicBlock: 2-3                   [16, 128, 28, 28]         --\n",
       "|    |    + Conv2d: 3-13                 [16, 128, 28, 28]         73,728\n",
       "|    |    + BatchNorm2d: 3-14            [16, 128, 28, 28]         256\n",
       "|    |    + ReLU: 3-15                   [16, 128, 28, 28]         --\n",
       "|    |    + Conv2d: 3-16                 [16, 128, 28, 28]         147,456\n",
       "|    |    + BatchNorm2d: 3-17            [16, 128, 28, 28]         256\n",
       "|    |    + Sequential: 3-18             [16, 128, 28, 28]         8,448\n",
       "|    |    + ReLU: 3-19                   [16, 128, 28, 28]         --\n",
       "|    + BasicBlock: 2-4                   [16, 128, 28, 28]         --\n",
       "|    |    + Conv2d: 3-20                 [16, 128, 28, 28]         147,456\n",
       "|    |    + BatchNorm2d: 3-21            [16, 128, 28, 28]         256\n",
       "|    |    + ReLU: 3-22                   [16, 128, 28, 28]         --\n",
       "|    |    + Conv2d: 3-23                 [16, 128, 28, 28]         147,456\n",
       "|    |    + BatchNorm2d: 3-24            [16, 128, 28, 28]         256\n",
       "|    |    + ReLU: 3-25                   [16, 128, 28, 28]         --\n",
       "+ Sequential: 1-7                        [16, 256, 14, 14]         --\n",
       "|    + BasicBlock: 2-5                   [16, 256, 14, 14]         --\n",
       "|    |    + Conv2d: 3-26                 [16, 256, 14, 14]         294,912\n",
       "|    |    + BatchNorm2d: 3-27            [16, 256, 14, 14]         512\n",
       "|    |    + ReLU: 3-28                   [16, 256, 14, 14]         --\n",
       "|    |    + Conv2d: 3-29                 [16, 256, 14, 14]         589,824\n",
       "|    |    + BatchNorm2d: 3-30            [16, 256, 14, 14]         512\n",
       "|    |    + Sequential: 3-31             [16, 256, 14, 14]         33,280\n",
       "|    |    + ReLU: 3-32                   [16, 256, 14, 14]         --\n",
       "|    + BasicBlock: 2-6                   [16, 256, 14, 14]         --\n",
       "|    |    + Conv2d: 3-33                 [16, 256, 14, 14]         589,824\n",
       "|    |    + BatchNorm2d: 3-34            [16, 256, 14, 14]         512\n",
       "|    |    + ReLU: 3-35                   [16, 256, 14, 14]         --\n",
       "|    |    + Conv2d: 3-36                 [16, 256, 14, 14]         589,824\n",
       "|    |    + BatchNorm2d: 3-37            [16, 256, 14, 14]         512\n",
       "|    |    + ReLU: 3-38                   [16, 256, 14, 14]         --\n",
       "+ Sequential: 1-8                        [16, 512, 7, 7]           --\n",
       "|    + BasicBlock: 2-7                   [16, 512, 7, 7]           --\n",
       "|    |    + Conv2d: 3-39                 [16, 512, 7, 7]           1,179,648\n",
       "|    |    + BatchNorm2d: 3-40            [16, 512, 7, 7]           1,024\n",
       "|    |    + ReLU: 3-41                   [16, 512, 7, 7]           --\n",
       "|    |    + Conv2d: 3-42                 [16, 512, 7, 7]           2,359,296\n",
       "|    |    + BatchNorm2d: 3-43            [16, 512, 7, 7]           1,024\n",
       "|    |    + Sequential: 3-44             [16, 512, 7, 7]           132,096\n",
       "|    |    + ReLU: 3-45                   [16, 512, 7, 7]           --\n",
       "|    + BasicBlock: 2-8                   [16, 512, 7, 7]           --\n",
       "|    |    + Conv2d: 3-46                 [16, 512, 7, 7]           2,359,296\n",
       "|    |    + BatchNorm2d: 3-47            [16, 512, 7, 7]           1,024\n",
       "|    |    + ReLU: 3-48                   [16, 512, 7, 7]           --\n",
       "|    |    + Conv2d: 3-49                 [16, 512, 7, 7]           2,359,296\n",
       "|    |    + BatchNorm2d: 3-50            [16, 512, 7, 7]           1,024\n",
       "|    |    + ReLU: 3-51                   [16, 512, 7, 7]           --\n",
       "+ AdaptiveAvgPool2d: 1-9                 [16, 512, 1, 1]           --\n",
       "+ Linear: 1-10                           [16, 1000]                513,000\n",
       "==========================================================================================\n",
       "Total params: 11,689,512\n",
       "Trainable params: 11,689,512\n",
       "Non-trainable params: 0\n",
       "Total mult-adds (Units.GIGABYTES): 29.03\n",
       "==========================================================================================\n",
       "Input size (MB): 9.63\n",
       "Forward/backward pass size (MB): 635.96\n",
       "Params size (MB): 46.76\n",
       "Estimated Total Size (MB): 692.35\n",
       "=========================================================================================="
      ]
     },
     "execution_count": 5,
     "metadata": {},
     "output_type": "execute_result"
    }
   ],
   "source": [
    "model_orig = models.resnet18()\n",
    "summary(model_orig, input_size=(16,3, 224, 224), row_settings=(\"depth\", \"ascii_only\"))"
   ]
  },
  {
   "cell_type": "code",
   "execution_count": 6,
   "metadata": {},
   "outputs": [
    {
     "data": {
      "text/plain": [
       "==========================================================================================\n",
       "Layer (type:depth-idx)                   Output Shape              Param #\n",
       "==========================================================================================\n",
       "Sequential                               [16, 64]                  --\n",
       "+ Conv2d: 1-1                            [16, 64, 112, 112]        9,408\n",
       "+ BatchNorm2d: 1-2                       [16, 64, 112, 112]        128\n",
       "+ ReLU: 1-3                              [16, 64, 112, 112]        --\n",
       "+ MaxPool2d: 1-4                         [16, 64, 56, 56]          --\n",
       "+ Sequential: 1-5                        [16, 64, 56, 56]          --\n",
       "|    + BasicBlock: 2-1                   [16, 64, 56, 56]          --\n",
       "|    |    + Conv2d: 3-1                  [16, 64, 56, 56]          36,864\n",
       "|    |    + BatchNorm2d: 3-2             [16, 64, 56, 56]          128\n",
       "|    |    + ReLU: 3-3                    [16, 64, 56, 56]          --\n",
       "|    |    + Conv2d: 3-4                  [16, 64, 56, 56]          36,864\n",
       "|    |    + BatchNorm2d: 3-5             [16, 64, 56, 56]          128\n",
       "|    |    + ReLU: 3-6                    [16, 64, 56, 56]          --\n",
       "|    + BasicBlock: 2-2                   [16, 64, 56, 56]          --\n",
       "|    |    + Conv2d: 3-7                  [16, 64, 56, 56]          36,864\n",
       "|    |    + BatchNorm2d: 3-8             [16, 64, 56, 56]          128\n",
       "|    |    + ReLU: 3-9                    [16, 64, 56, 56]          --\n",
       "|    |    + Conv2d: 3-10                 [16, 64, 56, 56]          36,864\n",
       "|    |    + BatchNorm2d: 3-11            [16, 64, 56, 56]          128\n",
       "|    |    + ReLU: 3-12                   [16, 64, 56, 56]          --\n",
       "+ Sequential: 1-6                        [16, 128, 28, 28]         --\n",
       "|    + BasicBlock: 2-3                   [16, 128, 28, 28]         --\n",
       "|    |    + Conv2d: 3-13                 [16, 128, 28, 28]         73,728\n",
       "|    |    + BatchNorm2d: 3-14            [16, 128, 28, 28]         256\n",
       "|    |    + ReLU: 3-15                   [16, 128, 28, 28]         --\n",
       "|    |    + Conv2d: 3-16                 [16, 128, 28, 28]         147,456\n",
       "|    |    + BatchNorm2d: 3-17            [16, 128, 28, 28]         256\n",
       "|    |    + Sequential: 3-18             [16, 128, 28, 28]         8,448\n",
       "|    |    + ReLU: 3-19                   [16, 128, 28, 28]         --\n",
       "|    + BasicBlock: 2-4                   [16, 128, 28, 28]         --\n",
       "|    |    + Conv2d: 3-20                 [16, 128, 28, 28]         147,456\n",
       "|    |    + BatchNorm2d: 3-21            [16, 128, 28, 28]         256\n",
       "|    |    + ReLU: 3-22                   [16, 128, 28, 28]         --\n",
       "|    |    + Conv2d: 3-23                 [16, 128, 28, 28]         147,456\n",
       "|    |    + BatchNorm2d: 3-24            [16, 128, 28, 28]         256\n",
       "|    |    + ReLU: 3-25                   [16, 128, 28, 28]         --\n",
       "+ Sequential: 1-7                        [16, 256, 14, 14]         --\n",
       "|    + BasicBlock: 2-5                   [16, 256, 14, 14]         --\n",
       "|    |    + Conv2d: 3-26                 [16, 256, 14, 14]         294,912\n",
       "|    |    + BatchNorm2d: 3-27            [16, 256, 14, 14]         512\n",
       "|    |    + ReLU: 3-28                   [16, 256, 14, 14]         --\n",
       "|    |    + Conv2d: 3-29                 [16, 256, 14, 14]         589,824\n",
       "|    |    + BatchNorm2d: 3-30            [16, 256, 14, 14]         512\n",
       "|    |    + Sequential: 3-31             [16, 256, 14, 14]         33,280\n",
       "|    |    + ReLU: 3-32                   [16, 256, 14, 14]         --\n",
       "|    + BasicBlock: 2-6                   [16, 256, 14, 14]         --\n",
       "|    |    + Conv2d: 3-33                 [16, 256, 14, 14]         589,824\n",
       "|    |    + BatchNorm2d: 3-34            [16, 256, 14, 14]         512\n",
       "|    |    + ReLU: 3-35                   [16, 256, 14, 14]         --\n",
       "|    |    + Conv2d: 3-36                 [16, 256, 14, 14]         589,824\n",
       "|    |    + BatchNorm2d: 3-37            [16, 256, 14, 14]         512\n",
       "|    |    + ReLU: 3-38                   [16, 256, 14, 14]         --\n",
       "+ Sequential: 1-8                        [16, 512, 7, 7]           --\n",
       "|    + BasicBlock: 2-7                   [16, 512, 7, 7]           --\n",
       "|    |    + Conv2d: 3-39                 [16, 512, 7, 7]           1,179,648\n",
       "|    |    + BatchNorm2d: 3-40            [16, 512, 7, 7]           1,024\n",
       "|    |    + ReLU: 3-41                   [16, 512, 7, 7]           --\n",
       "|    |    + Conv2d: 3-42                 [16, 512, 7, 7]           2,359,296\n",
       "|    |    + BatchNorm2d: 3-43            [16, 512, 7, 7]           1,024\n",
       "|    |    + Sequential: 3-44             [16, 512, 7, 7]           132,096\n",
       "|    |    + ReLU: 3-45                   [16, 512, 7, 7]           --\n",
       "|    + BasicBlock: 2-8                   [16, 512, 7, 7]           --\n",
       "|    |    + Conv2d: 3-46                 [16, 512, 7, 7]           2,359,296\n",
       "|    |    + BatchNorm2d: 3-47            [16, 512, 7, 7]           1,024\n",
       "|    |    + ReLU: 3-48                   [16, 512, 7, 7]           --\n",
       "|    |    + Conv2d: 3-49                 [16, 512, 7, 7]           2,359,296\n",
       "|    |    + BatchNorm2d: 3-50            [16, 512, 7, 7]           1,024\n",
       "|    |    + ReLU: 3-51                   [16, 512, 7, 7]           --\n",
       "+ AdaptiveAvgPool2d: 1-9                 [16, 512, 1, 1]           --\n",
       "+ Flatten: 1-10                          [16, 512]                 --\n",
       "+ Linear: 1-11                           [16, 64]                  32,832\n",
       "==========================================================================================\n",
       "Total params: 11,209,344\n",
       "Trainable params: 11,209,344\n",
       "Non-trainable params: 0\n",
       "Total mult-adds (Units.GIGABYTES): 29.02\n",
       "==========================================================================================\n",
       "Input size (MB): 9.63\n",
       "Forward/backward pass size (MB): 635.84\n",
       "Params size (MB): 44.84\n",
       "Estimated Total Size (MB): 690.31\n",
       "=========================================================================================="
      ]
     },
     "execution_count": 6,
     "metadata": {},
     "output_type": "execute_result"
    }
   ],
   "source": [
    "model_orig = models.resnet18()\n",
    "layers = list(model_orig.children())[:-1]\n",
    "layers.append(nn.Flatten())\n",
    "layers.append(nn.Linear(512, 64))\n",
    "vec_model = nn.Sequential(*layers)\n",
    "summary(vec_model, input_size=(16, 3, 224, 224), row_settings=(\"depth\", \"ascii_only\"))"
   ]
  },
  {
   "cell_type": "code",
   "execution_count": 7,
   "metadata": {},
   "outputs": [
    {
     "data": {
      "text/plain": [
       "Sequential(\n",
       "  (0): Conv2d(3, 64, kernel_size=(7, 7), stride=(2, 2), padding=(3, 3), bias=False)\n",
       "  (1): BatchNorm2d(64, eps=1e-05, momentum=0.1, affine=True, track_running_stats=True)\n",
       "  (2): ReLU(inplace=True)\n",
       "  (3): MaxPool2d(kernel_size=3, stride=2, padding=1, dilation=1, ceil_mode=False)\n",
       "  (4): Sequential(\n",
       "    (0): BasicBlock(\n",
       "      (conv1): Conv2d(64, 64, kernel_size=(3, 3), stride=(1, 1), padding=(1, 1), bias=False)\n",
       "      (bn1): BatchNorm2d(64, eps=1e-05, momentum=0.1, affine=True, track_running_stats=True)\n",
       "      (relu): ReLU(inplace=True)\n",
       "      (conv2): Conv2d(64, 64, kernel_size=(3, 3), stride=(1, 1), padding=(1, 1), bias=False)\n",
       "      (bn2): BatchNorm2d(64, eps=1e-05, momentum=0.1, affine=True, track_running_stats=True)\n",
       "    )\n",
       "    (1): BasicBlock(\n",
       "      (conv1): Conv2d(64, 64, kernel_size=(3, 3), stride=(1, 1), padding=(1, 1), bias=False)\n",
       "      (bn1): BatchNorm2d(64, eps=1e-05, momentum=0.1, affine=True, track_running_stats=True)\n",
       "      (relu): ReLU(inplace=True)\n",
       "      (conv2): Conv2d(64, 64, kernel_size=(3, 3), stride=(1, 1), padding=(1, 1), bias=False)\n",
       "      (bn2): BatchNorm2d(64, eps=1e-05, momentum=0.1, affine=True, track_running_stats=True)\n",
       "    )\n",
       "  )\n",
       "  (5): Sequential(\n",
       "    (0): BasicBlock(\n",
       "      (conv1): Conv2d(64, 128, kernel_size=(3, 3), stride=(2, 2), padding=(1, 1), bias=False)\n",
       "      (bn1): BatchNorm2d(128, eps=1e-05, momentum=0.1, affine=True, track_running_stats=True)\n",
       "      (relu): ReLU(inplace=True)\n",
       "      (conv2): Conv2d(128, 128, kernel_size=(3, 3), stride=(1, 1), padding=(1, 1), bias=False)\n",
       "      (bn2): BatchNorm2d(128, eps=1e-05, momentum=0.1, affine=True, track_running_stats=True)\n",
       "      (downsample): Sequential(\n",
       "        (0): Conv2d(64, 128, kernel_size=(1, 1), stride=(2, 2), bias=False)\n",
       "        (1): BatchNorm2d(128, eps=1e-05, momentum=0.1, affine=True, track_running_stats=True)\n",
       "      )\n",
       "    )\n",
       "    (1): BasicBlock(\n",
       "      (conv1): Conv2d(128, 128, kernel_size=(3, 3), stride=(1, 1), padding=(1, 1), bias=False)\n",
       "      (bn1): BatchNorm2d(128, eps=1e-05, momentum=0.1, affine=True, track_running_stats=True)\n",
       "      (relu): ReLU(inplace=True)\n",
       "      (conv2): Conv2d(128, 128, kernel_size=(3, 3), stride=(1, 1), padding=(1, 1), bias=False)\n",
       "      (bn2): BatchNorm2d(128, eps=1e-05, momentum=0.1, affine=True, track_running_stats=True)\n",
       "    )\n",
       "  )\n",
       "  (6): Sequential(\n",
       "    (0): BasicBlock(\n",
       "      (conv1): Conv2d(128, 256, kernel_size=(3, 3), stride=(2, 2), padding=(1, 1), bias=False)\n",
       "      (bn1): BatchNorm2d(256, eps=1e-05, momentum=0.1, affine=True, track_running_stats=True)\n",
       "      (relu): ReLU(inplace=True)\n",
       "      (conv2): Conv2d(256, 256, kernel_size=(3, 3), stride=(1, 1), padding=(1, 1), bias=False)\n",
       "      (bn2): BatchNorm2d(256, eps=1e-05, momentum=0.1, affine=True, track_running_stats=True)\n",
       "      (downsample): Sequential(\n",
       "        (0): Conv2d(128, 256, kernel_size=(1, 1), stride=(2, 2), bias=False)\n",
       "        (1): BatchNorm2d(256, eps=1e-05, momentum=0.1, affine=True, track_running_stats=True)\n",
       "      )\n",
       "    )\n",
       "    (1): BasicBlock(\n",
       "      (conv1): Conv2d(256, 256, kernel_size=(3, 3), stride=(1, 1), padding=(1, 1), bias=False)\n",
       "      (bn1): BatchNorm2d(256, eps=1e-05, momentum=0.1, affine=True, track_running_stats=True)\n",
       "      (relu): ReLU(inplace=True)\n",
       "      (conv2): Conv2d(256, 256, kernel_size=(3, 3), stride=(1, 1), padding=(1, 1), bias=False)\n",
       "      (bn2): BatchNorm2d(256, eps=1e-05, momentum=0.1, affine=True, track_running_stats=True)\n",
       "    )\n",
       "  )\n",
       "  (7): Sequential(\n",
       "    (0): BasicBlock(\n",
       "      (conv1): Conv2d(256, 512, kernel_size=(3, 3), stride=(2, 2), padding=(1, 1), bias=False)\n",
       "      (bn1): BatchNorm2d(512, eps=1e-05, momentum=0.1, affine=True, track_running_stats=True)\n",
       "      (relu): ReLU(inplace=True)\n",
       "      (conv2): Conv2d(512, 512, kernel_size=(3, 3), stride=(1, 1), padding=(1, 1), bias=False)\n",
       "      (bn2): BatchNorm2d(512, eps=1e-05, momentum=0.1, affine=True, track_running_stats=True)\n",
       "      (downsample): Sequential(\n",
       "        (0): Conv2d(256, 512, kernel_size=(1, 1), stride=(2, 2), bias=False)\n",
       "        (1): BatchNorm2d(512, eps=1e-05, momentum=0.1, affine=True, track_running_stats=True)\n",
       "      )\n",
       "    )\n",
       "    (1): BasicBlock(\n",
       "      (conv1): Conv2d(512, 512, kernel_size=(3, 3), stride=(1, 1), padding=(1, 1), bias=False)\n",
       "      (bn1): BatchNorm2d(512, eps=1e-05, momentum=0.1, affine=True, track_running_stats=True)\n",
       "      (relu): ReLU(inplace=True)\n",
       "      (conv2): Conv2d(512, 512, kernel_size=(3, 3), stride=(1, 1), padding=(1, 1), bias=False)\n",
       "      (bn2): BatchNorm2d(512, eps=1e-05, momentum=0.1, affine=True, track_running_stats=True)\n",
       "    )\n",
       "  )\n",
       "  (8): AdaptiveAvgPool2d(output_size=(1, 1))\n",
       "  (9): Flatten(start_dim=1, end_dim=-1)\n",
       "  (10): Linear(in_features=512, out_features=64, bias=True)\n",
       ")"
      ]
     },
     "execution_count": 7,
     "metadata": {},
     "output_type": "execute_result"
    }
   ],
   "source": [
    "vec_model"
   ]
  },
  {
   "cell_type": "code",
   "execution_count": 3,
   "metadata": {},
   "outputs": [
    {
     "data": {
      "text/plain": [
       "<All keys matched successfully>"
      ]
     },
     "execution_count": 3,
     "metadata": {},
     "output_type": "execute_result"
    }
   ],
   "source": [
    "# ecf classifier\n",
    "\n",
    "ecf = EfficientNetClassifier(dense_hidden_dims=[256,100],n_classes=10)\n",
    "eff = EfficientNet()\n",
    "ecf.featurizer.load_state_dict(eff.state_dict())"
   ]
  },
  {
   "cell_type": "code",
   "execution_count": 4,
   "metadata": {},
   "outputs": [
    {
     "data": {
      "text/plain": [
       "MLPClassifier(\n",
       "  (featurizer): MLP(\n",
       "    (activation): ReLU()\n",
       "    (dropout): Dropout(p=0.0, inplace=False)\n",
       "    (input_layer): Linear(in_features=1280, out_features=256, bias=True)\n",
       "    (hidden_layer_1): Linear(in_features=256, out_features=100, bias=True)\n",
       "  )\n",
       "  (classifier): Linear(in_features=100, out_features=64, bias=True)\n",
       ")"
      ]
     },
     "execution_count": 4,
     "metadata": {},
     "output_type": "execute_result"
    }
   ],
   "source": [
    "mlp = MLPClassifier(1280,[256,100],64)\n",
    "mlp"
   ]
  },
  {
   "cell_type": "code",
   "execution_count": 5,
   "metadata": {},
   "outputs": [
    {
     "data": {
      "text/plain": [
       "Linear(in_features=100, out_features=10, bias=True)"
      ]
     },
     "execution_count": 5,
     "metadata": {},
     "output_type": "execute_result"
    }
   ],
   "source": [
    "last_layer = ecf.classifier.classifier\n",
    "last_layer"
   ]
  },
  {
   "cell_type": "code",
   "execution_count": 14,
   "metadata": {},
   "outputs": [
    {
     "data": {
      "text/plain": [
       "[MLP(\n",
       "   (activation): ReLU()\n",
       "   (dropout): Dropout(p=0.0, inplace=False)\n",
       "   (input_layer): Linear(in_features=1280, out_features=256, bias=True)\n",
       "   (hidden_layer_1): Linear(in_features=256, out_features=100, bias=True)\n",
       " )]"
      ]
     },
     "execution_count": 14,
     "metadata": {},
     "output_type": "execute_result"
    }
   ],
   "source": [
    "layers = list(ecf.classifier.children())[:-1]\n",
    "# set mlp weights as classifier weights\n",
    "layers_mlp = list(mlp.children())[:-1]\n",
    "# replace ecf classifier layers with mlp layers\n",
    "layers = layers_mlp\n",
    "layers = [layers[0]]\n",
    "layers"
   ]
  },
  {
   "cell_type": "code",
   "execution_count": 7,
   "metadata": {},
   "outputs": [
    {
     "ename": "NameError",
     "evalue": "name 'nn' is not defined",
     "output_type": "error",
     "traceback": [
      "\u001b[0;31m---------------------------------------------------------------------------\u001b[0m",
      "\u001b[0;31mNameError\u001b[0m                                 Traceback (most recent call last)",
      "\u001b[1;32m/home/vannsh.jani/brick_kilns/githubrepo/Machine-Learning/test.ipynb Cell 12\u001b[0m line \u001b[0;36m1\n\u001b[0;32m----> <a href='vscode-notebook-cell://ssh-remote%2B10.0.62.168/home/vannsh.jani/brick_kilns/githubrepo/Machine-Learning/test.ipynb#X14sdnNjb2RlLXJlbW90ZQ%3D%3D?line=0'>1</a>\u001b[0m ecf\u001b[39m.\u001b[39mclassifier \u001b[39m=\u001b[39m nn\u001b[39m.\u001b[39mSequential(\u001b[39m*\u001b[39mlayers)\n",
      "\u001b[0;31mNameError\u001b[0m: name 'nn' is not defined"
     ]
    }
   ],
   "source": [
    "ecf.classifier = nn.Sequential(*layers)"
   ]
  },
  {
   "cell_type": "code",
   "execution_count": 8,
   "metadata": {},
   "outputs": [
    {
     "data": {
      "text/plain": [
       "MLPClassifier(\n",
       "  (featurizer): MLP(\n",
       "    (activation): ReLU()\n",
       "    (dropout): Dropout(p=0.0, inplace=False)\n",
       "    (input_layer): Linear(in_features=1280, out_features=256, bias=True)\n",
       "    (hidden_layer_1): Linear(in_features=256, out_features=100, bias=True)\n",
       "  )\n",
       "  (classifier): Linear(in_features=100, out_features=10, bias=True)\n",
       ")"
      ]
     },
     "execution_count": 8,
     "metadata": {},
     "output_type": "execute_result"
    }
   ],
   "source": [
    "ecf.classifier"
   ]
  },
  {
   "cell_type": "code",
   "execution_count": 9,
   "metadata": {},
   "outputs": [
    {
     "ename": "NameError",
     "evalue": "name 'nn' is not defined",
     "output_type": "error",
     "traceback": [
      "\u001b[0;31m---------------------------------------------------------------------------\u001b[0m",
      "\u001b[0;31mNameError\u001b[0m                                 Traceback (most recent call last)",
      "\u001b[1;32m/home/vannsh.jani/brick_kilns/githubrepo/Machine-Learning/test.ipynb Cell 14\u001b[0m line \u001b[0;36m2\n\u001b[1;32m      <a href='vscode-notebook-cell://ssh-remote%2B10.0.62.168/home/vannsh.jani/brick_kilns/githubrepo/Machine-Learning/test.ipynb#X23sdnNjb2RlLXJlbW90ZQ%3D%3D?line=0'>1</a>\u001b[0m layers_mlp \u001b[39m=\u001b[39m \u001b[39mlist\u001b[39m(mlp\u001b[39m.\u001b[39mchildren())[:\u001b[39m-\u001b[39m\u001b[39m1\u001b[39m]\n\u001b[0;32m----> <a href='vscode-notebook-cell://ssh-remote%2B10.0.62.168/home/vannsh.jani/brick_kilns/githubrepo/Machine-Learning/test.ipynb#X23sdnNjb2RlLXJlbW90ZQ%3D%3D?line=1'>2</a>\u001b[0m mlp \u001b[39m=\u001b[39m nn\u001b[39m.\u001b[39mSequential(\u001b[39m*\u001b[39mlayers_mlp)\n",
      "\u001b[0;31mNameError\u001b[0m: name 'nn' is not defined"
     ]
    }
   ],
   "source": [
    "layers_mlp = list(mlp.children())[:-1]\n",
    "mlp = nn.Sequential(*layers_mlp)"
   ]
  },
  {
   "cell_type": "code",
   "execution_count": 10,
   "metadata": {},
   "outputs": [
    {
     "data": {
      "text/plain": [
       "<generator object Module.children at 0x7f9ac7d19620>"
      ]
     },
     "execution_count": 10,
     "metadata": {},
     "output_type": "execute_result"
    }
   ],
   "source": [
    "mlp.children()"
   ]
  },
  {
   "cell_type": "code",
   "execution_count": 61,
   "metadata": {},
   "outputs": [
    {
     "data": {
      "text/plain": [
       "<All keys matched successfully>"
      ]
     },
     "execution_count": 61,
     "metadata": {},
     "output_type": "execute_result"
    }
   ],
   "source": [
    "# load till the last layer\n",
    "ecf.classifier.load_state_dict(mlp.state_dict())"
   ]
  },
  {
   "cell_type": "code",
   "execution_count": 62,
   "metadata": {},
   "outputs": [
    {
     "data": {
      "text/plain": [
       "Sequential(\n",
       "  (0): MLP(\n",
       "    (activation): ReLU()\n",
       "    (dropout): Dropout(p=0.0, inplace=False)\n",
       "    (input_layer): Linear(in_features=1280, out_features=256, bias=True)\n",
       "    (hidden_layer_1): Linear(in_features=256, out_features=100, bias=True)\n",
       "  )\n",
       ")"
      ]
     },
     "execution_count": 62,
     "metadata": {},
     "output_type": "execute_result"
    }
   ],
   "source": [
    "ecf.classifier"
   ]
  },
  {
   "cell_type": "code",
   "execution_count": 63,
   "metadata": {},
   "outputs": [],
   "source": [
    "layers = list(ecf.classifier.children())\n",
    "layers.append(last_layer)\n",
    "ecf.classifier = nn.Sequential(*layers)\n"
   ]
  },
  {
   "cell_type": "code",
   "execution_count": 64,
   "metadata": {},
   "outputs": [
    {
     "data": {
      "text/plain": [
       "Sequential(\n",
       "  (0): MLP(\n",
       "    (activation): ReLU()\n",
       "    (dropout): Dropout(p=0.0, inplace=False)\n",
       "    (input_layer): Linear(in_features=1280, out_features=256, bias=True)\n",
       "    (hidden_layer_1): Linear(in_features=256, out_features=100, bias=True)\n",
       "  )\n",
       "  (1): Linear(in_features=100, out_features=10, bias=True)\n",
       ")"
      ]
     },
     "execution_count": 64,
     "metadata": {},
     "output_type": "execute_result"
    }
   ],
   "source": [
    "ecf.classifier"
   ]
  },
  {
   "cell_type": "code",
   "execution_count": 69,
   "metadata": {},
   "outputs": [
    {
     "data": {
      "text/plain": [
       "EfficientNet(\n",
       "  (efficientnet): EfficientNet(\n",
       "    (features): Sequential(\n",
       "      (0): Conv2dNormActivation(\n",
       "        (0): Conv2d(3, 32, kernel_size=(3, 3), stride=(2, 2), padding=(1, 1), bias=False)\n",
       "        (1): BatchNorm2d(32, eps=1e-05, momentum=0.1, affine=True, track_running_stats=True)\n",
       "        (2): SiLU(inplace=True)\n",
       "      )\n",
       "      (1): Sequential(\n",
       "        (0): MBConv(\n",
       "          (block): Sequential(\n",
       "            (0): Conv2dNormActivation(\n",
       "              (0): Conv2d(32, 32, kernel_size=(3, 3), stride=(1, 1), padding=(1, 1), groups=32, bias=False)\n",
       "              (1): BatchNorm2d(32, eps=1e-05, momentum=0.1, affine=True, track_running_stats=True)\n",
       "              (2): SiLU(inplace=True)\n",
       "            )\n",
       "            (1): SqueezeExcitation(\n",
       "              (avgpool): AdaptiveAvgPool2d(output_size=1)\n",
       "              (fc1): Conv2d(32, 8, kernel_size=(1, 1), stride=(1, 1))\n",
       "              (fc2): Conv2d(8, 32, kernel_size=(1, 1), stride=(1, 1))\n",
       "              (activation): SiLU(inplace=True)\n",
       "              (scale_activation): Sigmoid()\n",
       "            )\n",
       "            (2): Conv2dNormActivation(\n",
       "              (0): Conv2d(32, 16, kernel_size=(1, 1), stride=(1, 1), bias=False)\n",
       "              (1): BatchNorm2d(16, eps=1e-05, momentum=0.1, affine=True, track_running_stats=True)\n",
       "            )\n",
       "          )\n",
       "          (stochastic_depth): StochasticDepth(p=0.0, mode=row)\n",
       "        )\n",
       "      )\n",
       "      (2): Sequential(\n",
       "        (0): MBConv(\n",
       "          (block): Sequential(\n",
       "            (0): Conv2dNormActivation(\n",
       "              (0): Conv2d(16, 96, kernel_size=(1, 1), stride=(1, 1), bias=False)\n",
       "              (1): BatchNorm2d(96, eps=1e-05, momentum=0.1, affine=True, track_running_stats=True)\n",
       "              (2): SiLU(inplace=True)\n",
       "            )\n",
       "            (1): Conv2dNormActivation(\n",
       "              (0): Conv2d(96, 96, kernel_size=(3, 3), stride=(2, 2), padding=(1, 1), groups=96, bias=False)\n",
       "              (1): BatchNorm2d(96, eps=1e-05, momentum=0.1, affine=True, track_running_stats=True)\n",
       "              (2): SiLU(inplace=True)\n",
       "            )\n",
       "            (2): SqueezeExcitation(\n",
       "              (avgpool): AdaptiveAvgPool2d(output_size=1)\n",
       "              (fc1): Conv2d(96, 4, kernel_size=(1, 1), stride=(1, 1))\n",
       "              (fc2): Conv2d(4, 96, kernel_size=(1, 1), stride=(1, 1))\n",
       "              (activation): SiLU(inplace=True)\n",
       "              (scale_activation): Sigmoid()\n",
       "            )\n",
       "            (3): Conv2dNormActivation(\n",
       "              (0): Conv2d(96, 24, kernel_size=(1, 1), stride=(1, 1), bias=False)\n",
       "              (1): BatchNorm2d(24, eps=1e-05, momentum=0.1, affine=True, track_running_stats=True)\n",
       "            )\n",
       "          )\n",
       "          (stochastic_depth): StochasticDepth(p=0.0125, mode=row)\n",
       "        )\n",
       "        (1): MBConv(\n",
       "          (block): Sequential(\n",
       "            (0): Conv2dNormActivation(\n",
       "              (0): Conv2d(24, 144, kernel_size=(1, 1), stride=(1, 1), bias=False)\n",
       "              (1): BatchNorm2d(144, eps=1e-05, momentum=0.1, affine=True, track_running_stats=True)\n",
       "              (2): SiLU(inplace=True)\n",
       "            )\n",
       "            (1): Conv2dNormActivation(\n",
       "              (0): Conv2d(144, 144, kernel_size=(3, 3), stride=(1, 1), padding=(1, 1), groups=144, bias=False)\n",
       "              (1): BatchNorm2d(144, eps=1e-05, momentum=0.1, affine=True, track_running_stats=True)\n",
       "              (2): SiLU(inplace=True)\n",
       "            )\n",
       "            (2): SqueezeExcitation(\n",
       "              (avgpool): AdaptiveAvgPool2d(output_size=1)\n",
       "              (fc1): Conv2d(144, 6, kernel_size=(1, 1), stride=(1, 1))\n",
       "              (fc2): Conv2d(6, 144, kernel_size=(1, 1), stride=(1, 1))\n",
       "              (activation): SiLU(inplace=True)\n",
       "              (scale_activation): Sigmoid()\n",
       "            )\n",
       "            (3): Conv2dNormActivation(\n",
       "              (0): Conv2d(144, 24, kernel_size=(1, 1), stride=(1, 1), bias=False)\n",
       "              (1): BatchNorm2d(24, eps=1e-05, momentum=0.1, affine=True, track_running_stats=True)\n",
       "            )\n",
       "          )\n",
       "          (stochastic_depth): StochasticDepth(p=0.025, mode=row)\n",
       "        )\n",
       "      )\n",
       "      (3): Sequential(\n",
       "        (0): MBConv(\n",
       "          (block): Sequential(\n",
       "            (0): Conv2dNormActivation(\n",
       "              (0): Conv2d(24, 144, kernel_size=(1, 1), stride=(1, 1), bias=False)\n",
       "              (1): BatchNorm2d(144, eps=1e-05, momentum=0.1, affine=True, track_running_stats=True)\n",
       "              (2): SiLU(inplace=True)\n",
       "            )\n",
       "            (1): Conv2dNormActivation(\n",
       "              (0): Conv2d(144, 144, kernel_size=(5, 5), stride=(2, 2), padding=(2, 2), groups=144, bias=False)\n",
       "              (1): BatchNorm2d(144, eps=1e-05, momentum=0.1, affine=True, track_running_stats=True)\n",
       "              (2): SiLU(inplace=True)\n",
       "            )\n",
       "            (2): SqueezeExcitation(\n",
       "              (avgpool): AdaptiveAvgPool2d(output_size=1)\n",
       "              (fc1): Conv2d(144, 6, kernel_size=(1, 1), stride=(1, 1))\n",
       "              (fc2): Conv2d(6, 144, kernel_size=(1, 1), stride=(1, 1))\n",
       "              (activation): SiLU(inplace=True)\n",
       "              (scale_activation): Sigmoid()\n",
       "            )\n",
       "            (3): Conv2dNormActivation(\n",
       "              (0): Conv2d(144, 40, kernel_size=(1, 1), stride=(1, 1), bias=False)\n",
       "              (1): BatchNorm2d(40, eps=1e-05, momentum=0.1, affine=True, track_running_stats=True)\n",
       "            )\n",
       "          )\n",
       "          (stochastic_depth): StochasticDepth(p=0.037500000000000006, mode=row)\n",
       "        )\n",
       "        (1): MBConv(\n",
       "          (block): Sequential(\n",
       "            (0): Conv2dNormActivation(\n",
       "              (0): Conv2d(40, 240, kernel_size=(1, 1), stride=(1, 1), bias=False)\n",
       "              (1): BatchNorm2d(240, eps=1e-05, momentum=0.1, affine=True, track_running_stats=True)\n",
       "              (2): SiLU(inplace=True)\n",
       "            )\n",
       "            (1): Conv2dNormActivation(\n",
       "              (0): Conv2d(240, 240, kernel_size=(5, 5), stride=(1, 1), padding=(2, 2), groups=240, bias=False)\n",
       "              (1): BatchNorm2d(240, eps=1e-05, momentum=0.1, affine=True, track_running_stats=True)\n",
       "              (2): SiLU(inplace=True)\n",
       "            )\n",
       "            (2): SqueezeExcitation(\n",
       "              (avgpool): AdaptiveAvgPool2d(output_size=1)\n",
       "              (fc1): Conv2d(240, 10, kernel_size=(1, 1), stride=(1, 1))\n",
       "              (fc2): Conv2d(10, 240, kernel_size=(1, 1), stride=(1, 1))\n",
       "              (activation): SiLU(inplace=True)\n",
       "              (scale_activation): Sigmoid()\n",
       "            )\n",
       "            (3): Conv2dNormActivation(\n",
       "              (0): Conv2d(240, 40, kernel_size=(1, 1), stride=(1, 1), bias=False)\n",
       "              (1): BatchNorm2d(40, eps=1e-05, momentum=0.1, affine=True, track_running_stats=True)\n",
       "            )\n",
       "          )\n",
       "          (stochastic_depth): StochasticDepth(p=0.05, mode=row)\n",
       "        )\n",
       "      )\n",
       "      (4): Sequential(\n",
       "        (0): MBConv(\n",
       "          (block): Sequential(\n",
       "            (0): Conv2dNormActivation(\n",
       "              (0): Conv2d(40, 240, kernel_size=(1, 1), stride=(1, 1), bias=False)\n",
       "              (1): BatchNorm2d(240, eps=1e-05, momentum=0.1, affine=True, track_running_stats=True)\n",
       "              (2): SiLU(inplace=True)\n",
       "            )\n",
       "            (1): Conv2dNormActivation(\n",
       "              (0): Conv2d(240, 240, kernel_size=(3, 3), stride=(2, 2), padding=(1, 1), groups=240, bias=False)\n",
       "              (1): BatchNorm2d(240, eps=1e-05, momentum=0.1, affine=True, track_running_stats=True)\n",
       "              (2): SiLU(inplace=True)\n",
       "            )\n",
       "            (2): SqueezeExcitation(\n",
       "              (avgpool): AdaptiveAvgPool2d(output_size=1)\n",
       "              (fc1): Conv2d(240, 10, kernel_size=(1, 1), stride=(1, 1))\n",
       "              (fc2): Conv2d(10, 240, kernel_size=(1, 1), stride=(1, 1))\n",
       "              (activation): SiLU(inplace=True)\n",
       "              (scale_activation): Sigmoid()\n",
       "            )\n",
       "            (3): Conv2dNormActivation(\n",
       "              (0): Conv2d(240, 80, kernel_size=(1, 1), stride=(1, 1), bias=False)\n",
       "              (1): BatchNorm2d(80, eps=1e-05, momentum=0.1, affine=True, track_running_stats=True)\n",
       "            )\n",
       "          )\n",
       "          (stochastic_depth): StochasticDepth(p=0.0625, mode=row)\n",
       "        )\n",
       "        (1): MBConv(\n",
       "          (block): Sequential(\n",
       "            (0): Conv2dNormActivation(\n",
       "              (0): Conv2d(80, 480, kernel_size=(1, 1), stride=(1, 1), bias=False)\n",
       "              (1): BatchNorm2d(480, eps=1e-05, momentum=0.1, affine=True, track_running_stats=True)\n",
       "              (2): SiLU(inplace=True)\n",
       "            )\n",
       "            (1): Conv2dNormActivation(\n",
       "              (0): Conv2d(480, 480, kernel_size=(3, 3), stride=(1, 1), padding=(1, 1), groups=480, bias=False)\n",
       "              (1): BatchNorm2d(480, eps=1e-05, momentum=0.1, affine=True, track_running_stats=True)\n",
       "              (2): SiLU(inplace=True)\n",
       "            )\n",
       "            (2): SqueezeExcitation(\n",
       "              (avgpool): AdaptiveAvgPool2d(output_size=1)\n",
       "              (fc1): Conv2d(480, 20, kernel_size=(1, 1), stride=(1, 1))\n",
       "              (fc2): Conv2d(20, 480, kernel_size=(1, 1), stride=(1, 1))\n",
       "              (activation): SiLU(inplace=True)\n",
       "              (scale_activation): Sigmoid()\n",
       "            )\n",
       "            (3): Conv2dNormActivation(\n",
       "              (0): Conv2d(480, 80, kernel_size=(1, 1), stride=(1, 1), bias=False)\n",
       "              (1): BatchNorm2d(80, eps=1e-05, momentum=0.1, affine=True, track_running_stats=True)\n",
       "            )\n",
       "          )\n",
       "          (stochastic_depth): StochasticDepth(p=0.07500000000000001, mode=row)\n",
       "        )\n",
       "        (2): MBConv(\n",
       "          (block): Sequential(\n",
       "            (0): Conv2dNormActivation(\n",
       "              (0): Conv2d(80, 480, kernel_size=(1, 1), stride=(1, 1), bias=False)\n",
       "              (1): BatchNorm2d(480, eps=1e-05, momentum=0.1, affine=True, track_running_stats=True)\n",
       "              (2): SiLU(inplace=True)\n",
       "            )\n",
       "            (1): Conv2dNormActivation(\n",
       "              (0): Conv2d(480, 480, kernel_size=(3, 3), stride=(1, 1), padding=(1, 1), groups=480, bias=False)\n",
       "              (1): BatchNorm2d(480, eps=1e-05, momentum=0.1, affine=True, track_running_stats=True)\n",
       "              (2): SiLU(inplace=True)\n",
       "            )\n",
       "            (2): SqueezeExcitation(\n",
       "              (avgpool): AdaptiveAvgPool2d(output_size=1)\n",
       "              (fc1): Conv2d(480, 20, kernel_size=(1, 1), stride=(1, 1))\n",
       "              (fc2): Conv2d(20, 480, kernel_size=(1, 1), stride=(1, 1))\n",
       "              (activation): SiLU(inplace=True)\n",
       "              (scale_activation): Sigmoid()\n",
       "            )\n",
       "            (3): Conv2dNormActivation(\n",
       "              (0): Conv2d(480, 80, kernel_size=(1, 1), stride=(1, 1), bias=False)\n",
       "              (1): BatchNorm2d(80, eps=1e-05, momentum=0.1, affine=True, track_running_stats=True)\n",
       "            )\n",
       "          )\n",
       "          (stochastic_depth): StochasticDepth(p=0.08750000000000001, mode=row)\n",
       "        )\n",
       "      )\n",
       "      (5): Sequential(\n",
       "        (0): MBConv(\n",
       "          (block): Sequential(\n",
       "            (0): Conv2dNormActivation(\n",
       "              (0): Conv2d(80, 480, kernel_size=(1, 1), stride=(1, 1), bias=False)\n",
       "              (1): BatchNorm2d(480, eps=1e-05, momentum=0.1, affine=True, track_running_stats=True)\n",
       "              (2): SiLU(inplace=True)\n",
       "            )\n",
       "            (1): Conv2dNormActivation(\n",
       "              (0): Conv2d(480, 480, kernel_size=(5, 5), stride=(1, 1), padding=(2, 2), groups=480, bias=False)\n",
       "              (1): BatchNorm2d(480, eps=1e-05, momentum=0.1, affine=True, track_running_stats=True)\n",
       "              (2): SiLU(inplace=True)\n",
       "            )\n",
       "            (2): SqueezeExcitation(\n",
       "              (avgpool): AdaptiveAvgPool2d(output_size=1)\n",
       "              (fc1): Conv2d(480, 20, kernel_size=(1, 1), stride=(1, 1))\n",
       "              (fc2): Conv2d(20, 480, kernel_size=(1, 1), stride=(1, 1))\n",
       "              (activation): SiLU(inplace=True)\n",
       "              (scale_activation): Sigmoid()\n",
       "            )\n",
       "            (3): Conv2dNormActivation(\n",
       "              (0): Conv2d(480, 112, kernel_size=(1, 1), stride=(1, 1), bias=False)\n",
       "              (1): BatchNorm2d(112, eps=1e-05, momentum=0.1, affine=True, track_running_stats=True)\n",
       "            )\n",
       "          )\n",
       "          (stochastic_depth): StochasticDepth(p=0.1, mode=row)\n",
       "        )\n",
       "        (1): MBConv(\n",
       "          (block): Sequential(\n",
       "            (0): Conv2dNormActivation(\n",
       "              (0): Conv2d(112, 672, kernel_size=(1, 1), stride=(1, 1), bias=False)\n",
       "              (1): BatchNorm2d(672, eps=1e-05, momentum=0.1, affine=True, track_running_stats=True)\n",
       "              (2): SiLU(inplace=True)\n",
       "            )\n",
       "            (1): Conv2dNormActivation(\n",
       "              (0): Conv2d(672, 672, kernel_size=(5, 5), stride=(1, 1), padding=(2, 2), groups=672, bias=False)\n",
       "              (1): BatchNorm2d(672, eps=1e-05, momentum=0.1, affine=True, track_running_stats=True)\n",
       "              (2): SiLU(inplace=True)\n",
       "            )\n",
       "            (2): SqueezeExcitation(\n",
       "              (avgpool): AdaptiveAvgPool2d(output_size=1)\n",
       "              (fc1): Conv2d(672, 28, kernel_size=(1, 1), stride=(1, 1))\n",
       "              (fc2): Conv2d(28, 672, kernel_size=(1, 1), stride=(1, 1))\n",
       "              (activation): SiLU(inplace=True)\n",
       "              (scale_activation): Sigmoid()\n",
       "            )\n",
       "            (3): Conv2dNormActivation(\n",
       "              (0): Conv2d(672, 112, kernel_size=(1, 1), stride=(1, 1), bias=False)\n",
       "              (1): BatchNorm2d(112, eps=1e-05, momentum=0.1, affine=True, track_running_stats=True)\n",
       "            )\n",
       "          )\n",
       "          (stochastic_depth): StochasticDepth(p=0.1125, mode=row)\n",
       "        )\n",
       "        (2): MBConv(\n",
       "          (block): Sequential(\n",
       "            (0): Conv2dNormActivation(\n",
       "              (0): Conv2d(112, 672, kernel_size=(1, 1), stride=(1, 1), bias=False)\n",
       "              (1): BatchNorm2d(672, eps=1e-05, momentum=0.1, affine=True, track_running_stats=True)\n",
       "              (2): SiLU(inplace=True)\n",
       "            )\n",
       "            (1): Conv2dNormActivation(\n",
       "              (0): Conv2d(672, 672, kernel_size=(5, 5), stride=(1, 1), padding=(2, 2), groups=672, bias=False)\n",
       "              (1): BatchNorm2d(672, eps=1e-05, momentum=0.1, affine=True, track_running_stats=True)\n",
       "              (2): SiLU(inplace=True)\n",
       "            )\n",
       "            (2): SqueezeExcitation(\n",
       "              (avgpool): AdaptiveAvgPool2d(output_size=1)\n",
       "              (fc1): Conv2d(672, 28, kernel_size=(1, 1), stride=(1, 1))\n",
       "              (fc2): Conv2d(28, 672, kernel_size=(1, 1), stride=(1, 1))\n",
       "              (activation): SiLU(inplace=True)\n",
       "              (scale_activation): Sigmoid()\n",
       "            )\n",
       "            (3): Conv2dNormActivation(\n",
       "              (0): Conv2d(672, 112, kernel_size=(1, 1), stride=(1, 1), bias=False)\n",
       "              (1): BatchNorm2d(112, eps=1e-05, momentum=0.1, affine=True, track_running_stats=True)\n",
       "            )\n",
       "          )\n",
       "          (stochastic_depth): StochasticDepth(p=0.125, mode=row)\n",
       "        )\n",
       "      )\n",
       "      (6): Sequential(\n",
       "        (0): MBConv(\n",
       "          (block): Sequential(\n",
       "            (0): Conv2dNormActivation(\n",
       "              (0): Conv2d(112, 672, kernel_size=(1, 1), stride=(1, 1), bias=False)\n",
       "              (1): BatchNorm2d(672, eps=1e-05, momentum=0.1, affine=True, track_running_stats=True)\n",
       "              (2): SiLU(inplace=True)\n",
       "            )\n",
       "            (1): Conv2dNormActivation(\n",
       "              (0): Conv2d(672, 672, kernel_size=(5, 5), stride=(2, 2), padding=(2, 2), groups=672, bias=False)\n",
       "              (1): BatchNorm2d(672, eps=1e-05, momentum=0.1, affine=True, track_running_stats=True)\n",
       "              (2): SiLU(inplace=True)\n",
       "            )\n",
       "            (2): SqueezeExcitation(\n",
       "              (avgpool): AdaptiveAvgPool2d(output_size=1)\n",
       "              (fc1): Conv2d(672, 28, kernel_size=(1, 1), stride=(1, 1))\n",
       "              (fc2): Conv2d(28, 672, kernel_size=(1, 1), stride=(1, 1))\n",
       "              (activation): SiLU(inplace=True)\n",
       "              (scale_activation): Sigmoid()\n",
       "            )\n",
       "            (3): Conv2dNormActivation(\n",
       "              (0): Conv2d(672, 192, kernel_size=(1, 1), stride=(1, 1), bias=False)\n",
       "              (1): BatchNorm2d(192, eps=1e-05, momentum=0.1, affine=True, track_running_stats=True)\n",
       "            )\n",
       "          )\n",
       "          (stochastic_depth): StochasticDepth(p=0.1375, mode=row)\n",
       "        )\n",
       "        (1): MBConv(\n",
       "          (block): Sequential(\n",
       "            (0): Conv2dNormActivation(\n",
       "              (0): Conv2d(192, 1152, kernel_size=(1, 1), stride=(1, 1), bias=False)\n",
       "              (1): BatchNorm2d(1152, eps=1e-05, momentum=0.1, affine=True, track_running_stats=True)\n",
       "              (2): SiLU(inplace=True)\n",
       "            )\n",
       "            (1): Conv2dNormActivation(\n",
       "              (0): Conv2d(1152, 1152, kernel_size=(5, 5), stride=(1, 1), padding=(2, 2), groups=1152, bias=False)\n",
       "              (1): BatchNorm2d(1152, eps=1e-05, momentum=0.1, affine=True, track_running_stats=True)\n",
       "              (2): SiLU(inplace=True)\n",
       "            )\n",
       "            (2): SqueezeExcitation(\n",
       "              (avgpool): AdaptiveAvgPool2d(output_size=1)\n",
       "              (fc1): Conv2d(1152, 48, kernel_size=(1, 1), stride=(1, 1))\n",
       "              (fc2): Conv2d(48, 1152, kernel_size=(1, 1), stride=(1, 1))\n",
       "              (activation): SiLU(inplace=True)\n",
       "              (scale_activation): Sigmoid()\n",
       "            )\n",
       "            (3): Conv2dNormActivation(\n",
       "              (0): Conv2d(1152, 192, kernel_size=(1, 1), stride=(1, 1), bias=False)\n",
       "              (1): BatchNorm2d(192, eps=1e-05, momentum=0.1, affine=True, track_running_stats=True)\n",
       "            )\n",
       "          )\n",
       "          (stochastic_depth): StochasticDepth(p=0.15000000000000002, mode=row)\n",
       "        )\n",
       "        (2): MBConv(\n",
       "          (block): Sequential(\n",
       "            (0): Conv2dNormActivation(\n",
       "              (0): Conv2d(192, 1152, kernel_size=(1, 1), stride=(1, 1), bias=False)\n",
       "              (1): BatchNorm2d(1152, eps=1e-05, momentum=0.1, affine=True, track_running_stats=True)\n",
       "              (2): SiLU(inplace=True)\n",
       "            )\n",
       "            (1): Conv2dNormActivation(\n",
       "              (0): Conv2d(1152, 1152, kernel_size=(5, 5), stride=(1, 1), padding=(2, 2), groups=1152, bias=False)\n",
       "              (1): BatchNorm2d(1152, eps=1e-05, momentum=0.1, affine=True, track_running_stats=True)\n",
       "              (2): SiLU(inplace=True)\n",
       "            )\n",
       "            (2): SqueezeExcitation(\n",
       "              (avgpool): AdaptiveAvgPool2d(output_size=1)\n",
       "              (fc1): Conv2d(1152, 48, kernel_size=(1, 1), stride=(1, 1))\n",
       "              (fc2): Conv2d(48, 1152, kernel_size=(1, 1), stride=(1, 1))\n",
       "              (activation): SiLU(inplace=True)\n",
       "              (scale_activation): Sigmoid()\n",
       "            )\n",
       "            (3): Conv2dNormActivation(\n",
       "              (0): Conv2d(1152, 192, kernel_size=(1, 1), stride=(1, 1), bias=False)\n",
       "              (1): BatchNorm2d(192, eps=1e-05, momentum=0.1, affine=True, track_running_stats=True)\n",
       "            )\n",
       "          )\n",
       "          (stochastic_depth): StochasticDepth(p=0.1625, mode=row)\n",
       "        )\n",
       "        (3): MBConv(\n",
       "          (block): Sequential(\n",
       "            (0): Conv2dNormActivation(\n",
       "              (0): Conv2d(192, 1152, kernel_size=(1, 1), stride=(1, 1), bias=False)\n",
       "              (1): BatchNorm2d(1152, eps=1e-05, momentum=0.1, affine=True, track_running_stats=True)\n",
       "              (2): SiLU(inplace=True)\n",
       "            )\n",
       "            (1): Conv2dNormActivation(\n",
       "              (0): Conv2d(1152, 1152, kernel_size=(5, 5), stride=(1, 1), padding=(2, 2), groups=1152, bias=False)\n",
       "              (1): BatchNorm2d(1152, eps=1e-05, momentum=0.1, affine=True, track_running_stats=True)\n",
       "              (2): SiLU(inplace=True)\n",
       "            )\n",
       "            (2): SqueezeExcitation(\n",
       "              (avgpool): AdaptiveAvgPool2d(output_size=1)\n",
       "              (fc1): Conv2d(1152, 48, kernel_size=(1, 1), stride=(1, 1))\n",
       "              (fc2): Conv2d(48, 1152, kernel_size=(1, 1), stride=(1, 1))\n",
       "              (activation): SiLU(inplace=True)\n",
       "              (scale_activation): Sigmoid()\n",
       "            )\n",
       "            (3): Conv2dNormActivation(\n",
       "              (0): Conv2d(1152, 192, kernel_size=(1, 1), stride=(1, 1), bias=False)\n",
       "              (1): BatchNorm2d(192, eps=1e-05, momentum=0.1, affine=True, track_running_stats=True)\n",
       "            )\n",
       "          )\n",
       "          (stochastic_depth): StochasticDepth(p=0.17500000000000002, mode=row)\n",
       "        )\n",
       "      )\n",
       "      (7): Sequential(\n",
       "        (0): MBConv(\n",
       "          (block): Sequential(\n",
       "            (0): Conv2dNormActivation(\n",
       "              (0): Conv2d(192, 1152, kernel_size=(1, 1), stride=(1, 1), bias=False)\n",
       "              (1): BatchNorm2d(1152, eps=1e-05, momentum=0.1, affine=True, track_running_stats=True)\n",
       "              (2): SiLU(inplace=True)\n",
       "            )\n",
       "            (1): Conv2dNormActivation(\n",
       "              (0): Conv2d(1152, 1152, kernel_size=(3, 3), stride=(1, 1), padding=(1, 1), groups=1152, bias=False)\n",
       "              (1): BatchNorm2d(1152, eps=1e-05, momentum=0.1, affine=True, track_running_stats=True)\n",
       "              (2): SiLU(inplace=True)\n",
       "            )\n",
       "            (2): SqueezeExcitation(\n",
       "              (avgpool): AdaptiveAvgPool2d(output_size=1)\n",
       "              (fc1): Conv2d(1152, 48, kernel_size=(1, 1), stride=(1, 1))\n",
       "              (fc2): Conv2d(48, 1152, kernel_size=(1, 1), stride=(1, 1))\n",
       "              (activation): SiLU(inplace=True)\n",
       "              (scale_activation): Sigmoid()\n",
       "            )\n",
       "            (3): Conv2dNormActivation(\n",
       "              (0): Conv2d(1152, 320, kernel_size=(1, 1), stride=(1, 1), bias=False)\n",
       "              (1): BatchNorm2d(320, eps=1e-05, momentum=0.1, affine=True, track_running_stats=True)\n",
       "            )\n",
       "          )\n",
       "          (stochastic_depth): StochasticDepth(p=0.1875, mode=row)\n",
       "        )\n",
       "      )\n",
       "      (8): Conv2dNormActivation(\n",
       "        (0): Conv2d(320, 1280, kernel_size=(1, 1), stride=(1, 1), bias=False)\n",
       "        (1): BatchNorm2d(1280, eps=1e-05, momentum=0.1, affine=True, track_running_stats=True)\n",
       "        (2): SiLU(inplace=True)\n",
       "      )\n",
       "    )\n",
       "    (avgpool): AdaptiveAvgPool2d(output_size=1)\n",
       "    (classifier): Identity()\n",
       "  )\n",
       "  (flatten): Flatten(start_dim=1, end_dim=-1)\n",
       ")"
      ]
     },
     "execution_count": 69,
     "metadata": {},
     "output_type": "execute_result"
    }
   ],
   "source": [
    "ecf.featurizer"
   ]
  },
  {
   "cell_type": "code",
   "execution_count": 74,
   "metadata": {},
   "outputs": [
    {
     "data": {
      "text/plain": [
       "MLPClassifier(\n",
       "  (featurizer): MLP(\n",
       "    (activation): ReLU()\n",
       "    (dropout): Dropout(p=0.0, inplace=False)\n",
       "    (input_layer): Linear(in_features=11520, out_features=1280, bias=True)\n",
       "    (hidden_layer_1): Linear(in_features=1280, out_features=256, bias=True)\n",
       "    (hidden_layer_2): Linear(in_features=256, out_features=100, bias=True)\n",
       "  )\n",
       "  (classifier): Linear(in_features=100, out_features=64, bias=True)\n",
       ")"
      ]
     },
     "execution_count": 74,
     "metadata": {},
     "output_type": "execute_result"
    }
   ],
   "source": [
    "mlp = MLPClassifier(1280*9,[1280,256,100],64)\n",
    "mlp"
   ]
  },
  {
   "cell_type": "code",
   "execution_count": 79,
   "metadata": {},
   "outputs": [],
   "source": [
    "list(mlp.children())[0].input_layer = list(mlp.children())[0].hidden_layer_1"
   ]
  },
  {
   "cell_type": "code",
   "execution_count": 81,
   "metadata": {},
   "outputs": [],
   "source": [
    "list(mlp.children())[0].hidden_layer_1 = list(mlp.children())[0].hidden_layer_2"
   ]
  },
  {
   "cell_type": "code",
   "execution_count": 87,
   "metadata": {},
   "outputs": [
    {
     "data": {
      "text/plain": [
       "MLP(\n",
       "  (activation): ReLU()\n",
       "  (dropout): Dropout(p=0.0, inplace=False)\n",
       "  (input_layer): Linear(in_features=1280, out_features=256, bias=True)\n",
       "  (hidden_layer_1): Linear(in_features=256, out_features=100, bias=True)\n",
       "  (hidden_layer_2): Identity()\n",
       ")"
      ]
     },
     "execution_count": 87,
     "metadata": {},
     "output_type": "execute_result"
    }
   ],
   "source": [
    "list(mlp.children())[0]"
   ]
  },
  {
   "cell_type": "code",
   "execution_count": 85,
   "metadata": {},
   "outputs": [],
   "source": [
    "list(mlp.children())[0].hidden_layer_2 = nn.Identity()"
   ]
  },
  {
   "cell_type": "code",
   "execution_count": 86,
   "metadata": {},
   "outputs": [
    {
     "data": {
      "text/plain": [
       "[MLP(\n",
       "   (activation): ReLU()\n",
       "   (dropout): Dropout(p=0.0, inplace=False)\n",
       "   (input_layer): Linear(in_features=1280, out_features=256, bias=True)\n",
       "   (hidden_layer_1): Linear(in_features=256, out_features=100, bias=True)\n",
       "   (hidden_layer_2): Identity()\n",
       " ),\n",
       " Linear(in_features=100, out_features=64, bias=True)]"
      ]
     },
     "execution_count": 86,
     "metadata": {},
     "output_type": "execute_result"
    }
   ],
   "source": [
    "list(mlp.children())"
   ]
  },
  {
   "cell_type": "code",
   "execution_count": null,
   "metadata": {},
   "outputs": [],
   "source": []
  }
 ],
 "metadata": {
  "kernelspec": {
   "display_name": "base",
   "language": "python",
   "name": "python3"
  },
  "language_info": {
   "codemirror_mode": {
    "name": "ipython",
    "version": 3
   },
   "file_extension": ".py",
   "mimetype": "text/x-python",
   "name": "python",
   "nbconvert_exporter": "python",
   "pygments_lexer": "ipython3",
   "version": "3.11.5"
  },
  "orig_nbformat": 4
 },
 "nbformat": 4,
 "nbformat_minor": 2
}
