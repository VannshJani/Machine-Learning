{
 "cells": [
  {
   "cell_type": "markdown",
   "metadata": {},
   "source": [
    "## Prerequisite Test for ES 335 Machine Learning - Spring 2024\n",
    "Name - Vannsh Jani  \n",
    "Roll No - 22110279"
   ]
  },
  {
   "cell_type": "markdown",
   "metadata": {},
   "source": [
    "#### Question 1"
   ]
  },
  {
   "cell_type": "markdown",
   "metadata": {},
   "source": [
    "How many multiplications and additions do you need to perform a matrix multiplication between a (n, k) and (k, m) matrix? Explain."
   ]
  },
  {
   "cell_type": "markdown",
   "metadata": {},
   "source": [
    "##### Answer"
   ]
  },
  {
   "cell_type": "markdown",
   "metadata": {},
   "source": [
    "When we perform matrix multiplication between a (n,k) and (k,m) matrix, we get a (n,m) matrix. Let us call the (n,k) matrix as 'A' and the (k,m) matrix as 'B'. One of the ways to multiply the two matrices is to take the pairwise dot product between the rows of one matrix and the columns of the other matrix. Let us consider the rows of A and the columns of B. Each row in A and column in B has k entries. Hence for one such dot product we will have k multiplications and k-1 additions and one such dot product will give us one of the entries in the resultant (n,m) matrix. Hence, these operations will occur $\\text n.\\text m$ times for all entries.  \n",
    "Hence,  \n",
    "Number of multiplications is $\\text {k.m.n}$.  \n",
    "Number of additions is $(\\text k-1).\\text {m.n}$. "
   ]
  },
  {
   "cell_type": "markdown",
   "metadata": {},
   "source": [
    "#### Question 2"
   ]
  },
  {
   "cell_type": "markdown",
   "metadata": {},
   "source": [
    "Write Python code to multiply the above two matrices. Solve using list of lists and then use numpy. Compare the timing of both solutions. Which one is faster? Why?"
   ]
  },
  {
   "cell_type": "markdown",
   "metadata": {},
   "source": [
    "##### Answer"
   ]
  },
  {
   "cell_type": "markdown",
   "metadata": {},
   "source": [
    "Let us take $\\text n=5, \\text m=4, \\text k=3$. A is a (5,3) matrix and B is a (3,4) matrix."
   ]
  },
  {
   "cell_type": "markdown",
   "metadata": {},
   "source": [
    " Let $\\quad  \\text A = \\begin{bmatrix} 2 & 3 & 5 \\\\ 4 & 1 & 6 \\\\ 9 & 8 & 9 \\\\ 1 & 2 & 4 \\\\ 7 & 10 & 3 \\end{bmatrix},\\quad  \\text B = \\begin{bmatrix} 9 & 1 & 5 & 3 \\\\ 4 & 12 & 2 & 0 \\\\ 11 & 4 & 2 & 9 \\end{bmatrix} $"
   ]
  },
  {
   "cell_type": "code",
   "execution_count": 1,
   "metadata": {},
   "outputs": [
    {
     "name": "stdout",
     "output_type": "stream",
     "text": [
      "Matrix A: [[2, 3, 5], [4, 1, 6], [9, 8, 9], [1, 2, 4], [7, 10, 3]]\n",
      "Matrix B: [[9, 1, 5, 3], [4, 12, 2, 0], [11, 4, 2, 9]]\n",
      "\n",
      "Multip[lying A and B by considering rows of A and columns of B\n",
      "\n",
      "\n",
      "Matrix C=AB: [[85, 58, 26, 51], [106, 40, 34, 66], [212, 141, 79, 108], [61, 41, 17, 39], [136, 139, 61, 48]]\n",
      "C has 5 rows and 4 columns\n",
      "Time taken for lists method: 0.00011110305786132812 seconds\n"
     ]
    }
   ],
   "source": [
    "import time\n",
    "# list of lists method\n",
    "\n",
    "A = [[2,3,5],[4,1,6],[9,8,9],[1,2,4],[7,10,3]]\n",
    "B = [[9,1,5,3],[4,12,2,0],[11,4,2,9]]\n",
    "\n",
    "print(f\"Matrix A: {A}\")\n",
    "print(f\"Matrix B: {B}\")\n",
    "print()\n",
    "\n",
    "print(\"Multip[lying A and B by considering rows of A and columns of B\")\n",
    "print()\n",
    "start = time.time()\n",
    "C = []\n",
    "n_rows_A = len(A)\n",
    "n_cols_B = len(B[0])\n",
    "for row in A:\n",
    "    C_row = []\n",
    "    for col in range(n_cols_B):\n",
    "        C_row.append(sum([row[i]*B[i][col] for i in range(len(row))]))\n",
    "    C.append(C_row)\n",
    "end = time.time()\n",
    "print()\n",
    "print(f\"Matrix C=AB: {C}\")\n",
    "print(\"C has 5 rows and 4 columns\")\n",
    "print(f\"Time taken for lists method: {end-start} seconds\")\n",
    "\n"
   ]
  },
  {
   "cell_type": "code",
   "execution_count": 2,
   "metadata": {},
   "outputs": [
    {
     "name": "stdout",
     "output_type": "stream",
     "text": [
      "C = AB: [[ 85  58  26  51]\n",
      " [106  40  34  66]\n",
      " [212 141  79 108]\n",
      " [ 61  41  17  39]\n",
      " [136 139  61  48]]\n",
      "Time taken for numpy method: 1.9788742065429688e-05 seconds\n"
     ]
    }
   ],
   "source": [
    "# numpy method\n",
    "import numpy as np\n",
    "A = np.array([[2,3,5],[4,1,6],[9,8,9],[1,2,4],[7,10,3]])\n",
    "B = np.array([[9,1,5,3],[4,12,2,0],[11,4,2,9]])\n",
    "start = time.time()\n",
    "C = np.matmul(A,B)\n",
    "end = time.time()\n",
    "print(f\"C = AB: {C}\")\n",
    "print(f\"Time taken for numpy method: {end-start} seconds\")"
   ]
  },
  {
   "cell_type": "markdown",
   "metadata": {},
   "source": [
    "Time taken for lists method is roughly $1.11 \\text x 10^{-4}$ seconds.  \n",
    "Time taken for numpy method is roughly $1.97  \\text x 10^{-5}$ seconds.  \n",
    "\n",
    "This difference enlarges and numpy will take much less time when the matrices are larger in size."
   ]
  },
  {
   "cell_type": "code",
   "execution_count": 3,
   "metadata": {},
   "outputs": [
    {
     "name": "stdout",
     "output_type": "stream",
     "text": [
      "Multip[lying A and B by considering rows of A and columns of B\n",
      "\n",
      "Time taken for lists method: 17.365705013275146 seconds\n"
     ]
    }
   ],
   "source": [
    "# creating a random large matrix using lists\n",
    "\n",
    "import random\n",
    "n = 1000\n",
    "k = 500\n",
    "m = 800\n",
    "A = [[random.randint(0,100) for i in range(k)] for j in range(n)]\n",
    "B = [[random.randint(0,100) for i in range(m)] for j in range(k)]\n",
    "\n",
    "print(\"Multip[lying A and B by considering rows of A and columns of B\")\n",
    "print()\n",
    "start = time.time()\n",
    "C = []\n",
    "n_rows_A = len(A)\n",
    "n_cols_B = len(B[0])\n",
    "for row in A:\n",
    "    C_row = []\n",
    "    for col in range(n_cols_B):\n",
    "        C_row.append(sum([row[i]*B[i][col] for i in range(len(row))]))\n",
    "    C.append(C_row)\n",
    "end = time.time()\n",
    "print(f\"Time taken for lists method: {end-start} seconds\")\n",
    "\n"
   ]
  },
  {
   "cell_type": "code",
   "execution_count": 4,
   "metadata": {},
   "outputs": [
    {
     "name": "stdout",
     "output_type": "stream",
     "text": [
      "Time taken for numpy method: 0.16290903091430664 seconds\n"
     ]
    }
   ],
   "source": [
    "# numpy method\n",
    "\n",
    "A = np.array(A)\n",
    "B = np.array(B)\n",
    "start = time.time()\n",
    "C = np.matmul(A,B)\n",
    "end = time.time()\n",
    "print(f\"Time taken for numpy method: {end-start} seconds\")\n"
   ]
  },
  {
   "cell_type": "markdown",
   "metadata": {},
   "source": [
    "Numpy is implemented in C which is a low level language and hence, the operations are faster than python. Numpy utilizes parallelized computing and hence can perform operations on entire arrays or matrices at once whereas in python lists, the operations are performed one after the other as we iterate through the list. Hence, for these reasons numpy performs calculations faster than python lists."
   ]
  },
  {
   "cell_type": "markdown",
   "metadata": {},
   "source": [
    "#### Question 3"
   ]
  },
  {
   "cell_type": "markdown",
   "metadata": {},
   "source": [
    "Finding the highest element in a list requires one pass of the array. Finding the second highest element requires 2 passes of the the array. Using this method, what is the time complexity of finding the median of the array? Can you suggest a better method? Can you implement both these methods in Python and compare against numpy.median routine in terms of time?"
   ]
  },
  {
   "cell_type": "markdown",
   "metadata": {},
   "source": [
    "##### Answer"
   ]
  },
  {
   "cell_type": "markdown",
   "metadata": {},
   "source": [
    "The median is the middle element in a sorted array if the length of the array is odd and it is the average of the middle two numbers if the length of the array is even. Using the above method, since we know the length of the array (say n), we can find the (n/2)th largest element in (n/2) passes of the array which is $\\Theta (\\text n^2)$ time.  \n",
    "A better method would be to sort the array and return the middle element of the array which takes $\\Theta (\\text {nlogn})$ time."
   ]
  },
  {
   "cell_type": "code",
   "execution_count": 5,
   "metadata": {},
   "outputs": [
    {
     "name": "stdout",
     "output_type": "stream",
     "text": [
      "Median of A: 5.5\n",
      "Time taken for quadratic method: 2.193450927734375e-05 seconds\n"
     ]
    }
   ],
   "source": [
    "import time\n",
    "import numpy as np\n",
    "\n",
    "A = [7,1,5,9,2,5,3,8,7,1,6,4,6,8,2,7]\n",
    "# quadratic time method\n",
    "def median_quad(A):\n",
    "    n = len(A)\n",
    "    highest_values = []\n",
    "    for i in range((n//2)+1):\n",
    "        highest = A[0]\n",
    "        for j in range(len(A)):\n",
    "            if A[j] > highest:\n",
    "                highest = A[j]\n",
    "        highest_values.append(highest)\n",
    "        A.remove(highest)\n",
    "    if n%2 == 0:\n",
    "        return (highest_values[-1]+highest_values[-2])/2\n",
    "    else:\n",
    "        return highest_values[-1]\n",
    "start = time.time()\n",
    "median = median_quad(A)\n",
    "end = time.time()    \n",
    "print(f\"Median of A: {median}\")\n",
    "print(f\"Time taken for quadratic method: {end-start} seconds\")\n",
    "\n",
    "    "
   ]
  },
  {
   "cell_type": "code",
   "execution_count": 6,
   "metadata": {},
   "outputs": [
    {
     "name": "stdout",
     "output_type": "stream",
     "text": [
      "Median of A: 5.5\n",
      "Time taken for nlogn method: 1.4781951904296875e-05 seconds\n"
     ]
    }
   ],
   "source": [
    "# nlogn time method\n",
    "A = [7,1,5,9,2,5,3,8,7,1,6,4,6,8,2,7]\n",
    "\n",
    "def median_nlogn(A):\n",
    "    n = len(A)\n",
    "    A.sort()\n",
    "    if n%2 == 0:\n",
    "        return (A[n//2]+A[(n//2)-1])/2\n",
    "    else:\n",
    "        return A[n//2]\n",
    "\n",
    "start = time.time()\n",
    "median = median_nlogn(A)\n",
    "end = time.time()    \n",
    "print(f\"Median of A: {median}\")\n",
    "print(f\"Time taken for nlogn method: {end-start} seconds\")\n",
    "    \n"
   ]
  },
  {
   "cell_type": "code",
   "execution_count": 7,
   "metadata": {},
   "outputs": [
    {
     "name": "stdout",
     "output_type": "stream",
     "text": [
      "Median of A: 5.5\n",
      "Time taken for numpy method: 0.00022983551025390625 seconds\n"
     ]
    }
   ],
   "source": [
    "# numpy method\n",
    "A = np.array([7,1,5,9,2,5,3,8,7,1,6,4,6,8,2,7])\n",
    "start = time.time()\n",
    "median = np.median(A)\n",
    "end = time.time()\n",
    "print(f\"Median of A: {median}\")\n",
    "print(f\"Time taken for numpy method: {end-start} seconds\")"
   ]
  },
  {
   "cell_type": "markdown",
   "metadata": {},
   "source": [
    "#### Question 4"
   ]
  },
  {
   "cell_type": "markdown",
   "metadata": {},
   "source": [
    "What is the gradient of the following function with respect to x and y?  \n",
    "$$\n",
    "\\text x^2 \\text y + \\text y^3 \\text {sin(x)}\n",
    "$$"
   ]
  },
  {
   "cell_type": "markdown",
   "metadata": {},
   "source": [
    "##### Answer"
   ]
  },
  {
   "cell_type": "markdown",
   "metadata": {},
   "source": [
    "Gradient with respect to x is $2\\text{xy} + \\text y^3 \\text {cos(x)} $.  \n",
    "Gradient with respect to y is $\\text{x}^2 + 3\\text y^2 \\text {sin(x)} $."
   ]
  },
  {
   "cell_type": "markdown",
   "metadata": {},
   "source": [
    "#### Question 5"
   ]
  },
  {
   "cell_type": "markdown",
   "metadata": {},
   "source": [
    "Use JAX to confirm the gradient evaluated by your method matches the analytical solution corresponding to a few random values of x and y\n",
    "\n"
   ]
  },
  {
   "cell_type": "code",
   "execution_count": 23,
   "metadata": {},
   "outputs": [
    {
     "name": "stdout",
     "output_type": "stream",
     "text": [
      "dfdx(0.8444218515250481,0.4049341374504143) = 0.7279694676399231\n",
      "f_x(0.8444218515250481,0.4049341374504143) = 0.7279694676399231\n",
      "dfdy(0.8444218515250481,0.4049341374504143) = 1.0807976722717285\n",
      "f_y(0.8444218515250481,0.4049341374504143) = 1.0807976722717285\n",
      "\n",
      "dfdx(0.7579544029403025,0.7837985890347726) = 1.5378673076629639\n",
      "f_x(0.7579544029403025,0.7837985890347726) = 1.5378673076629639\n",
      "dfdy(0.7579544029403025,0.7837985890347726) = 1.8414559364318848\n",
      "f_y(0.7579544029403025,0.7837985890347726) = 1.8414559364318848\n",
      "\n",
      "dfdx(0.420571580830845,0.30331272607892745) = 0.2806020677089691\n",
      "f_x(0.420571580830845,0.30331272607892745) = 0.2806020677089691\n",
      "dfdy(0.420571580830845,0.30331272607892745) = 0.28956466913223267\n",
      "f_y(0.420571580830845,0.30331272607892745) = 0.28956466913223267\n",
      "\n",
      "dfdx(0.25891675029296335,0.4765969541523558) = 0.35144591331481934\n",
      "f_x(0.25891675029296335,0.4765969541523558) = 0.35144591331481934\n",
      "dfdy(0.25891675029296335,0.4765969541523558) = 0.24150782823562622\n",
      "f_y(0.25891675029296335,0.4765969541523558) = 0.24150782823562622\n",
      "\n",
      "dfdx(0.5112747213686085,0.5833820394550312) = 0.7696924209594727\n",
      "f_x(0.5112747213686085,0.5833820394550312) = 0.7696924209594727\n",
      "dfdy(0.5112747213686085,0.5833820394550312) = 0.7609680891036987\n",
      "f_y(0.5112747213686085,0.5833820394550312) = 0.7609680891036987\n",
      "\n"
     ]
    }
   ],
   "source": [
    "import jax\n",
    "import jax.numpy as jnp\n",
    "import random\n",
    "\n",
    "def f(x, y):\n",
    "    return x**2 * y + (y**3) * (jnp.sin(x))\n",
    "\n",
    "def f_x(x, y):\n",
    "    return 2 * x * y + (y**3) * (jnp.cos(x))\n",
    "\n",
    "def f_y(x, y):\n",
    "    return x**2 + 3 * (y**2) * (jnp.sin(x))\n",
    "\n",
    "random.seed(0)\n",
    "x = [random.random() for i in range(5)]\n",
    "y = [random.random() for i in range(5)]\n",
    "\n",
    "dfdx = jax.grad(f, argnums=0)\n",
    "dfdy = jax.grad(f, argnums=1)\n",
    "for i in range(len(x)):\n",
    "    print(f\"dfdx({x[i]},{y[i]}) = {dfdx(x[i], y[i])}\")\n",
    "    print(f\"f_x({x[i]},{y[i]}) = {f_x(x[i], y[i])}\")\n",
    "    print(f\"dfdy({x[i]},{y[i]}) = {dfdy(x[i], y[i])}\")\n",
    "    print(f\"f_y({x[i]},{y[i]}) = {f_y(x[i], y[i])}\")\n",
    "    print()\n",
    "\n"
   ]
  },
  {
   "cell_type": "markdown",
   "metadata": {},
   "source": [
    "#### Question 6"
   ]
  },
  {
   "cell_type": "markdown",
   "metadata": {},
   "source": [
    "Use sympy to confirm that you obtain the same gradient analytically."
   ]
  },
  {
   "cell_type": "markdown",
   "metadata": {},
   "source": [
    "##### Answer"
   ]
  },
  {
   "cell_type": "code",
   "execution_count": 31,
   "metadata": {},
   "outputs": [
    {
     "name": "stdout",
     "output_type": "stream",
     "text": [
      "f(x,y) = x**2*y + y**3*sin(x)\n",
      "df_dx(x,y) = 2*x*y + y**3*cos(x)\n",
      "df_dy(x,y) = x**2 + 3*y**2*sin(x)\n"
     ]
    }
   ],
   "source": [
    "# partial derivative using sympy\n",
    "from sympy import symbols, diff, sin, cos\n",
    "x, y = symbols('x y')\n",
    "f = x**2 * y + y**3 * sin(x)\n",
    "a = diff(f,x), # partial derivative of f wrt x\n",
    "b = diff(f,y), # partial derivative of f wrt y\n",
    "print(f\"f(x,y) = {f}\")\n",
    "print(f\"df_dx(x,y) = {diff(f,x)}\")\n",
    "print(f\"df_dy(x,y) = {diff(f,y)}\")"
   ]
  },
  {
   "cell_type": "markdown",
   "metadata": {},
   "source": [
    "#### Question 7"
   ]
  },
  {
   "cell_type": "markdown",
   "metadata": {},
   "source": [
    "Create a Python nested dictionary to represent hierarchical information. We want to store record of students and their marks."
   ]
  },
  {
   "cell_type": "code",
   "execution_count": 34,
   "metadata": {},
   "outputs": [
    {
     "data": {
      "text/plain": [
       "{'2022': {'CSE': {'Roll nunmber': 1,\n",
       "   'Name': 's1',\n",
       "   'Marks': {'Maths': 100,\n",
       "    'English': 70,\n",
       "    'Physics': 80,\n",
       "    'Theory of Computation': 90}},\n",
       "  'ECE': {'Roll nunmber': 2,\n",
       "   'Name': 's2',\n",
       "   'Marks': {'Maths': 90,\n",
       "    'English': 80,\n",
       "    'Physics': 90,\n",
       "    'Electronic Devices': 85}}},\n",
       " '2023': {'ME': {'Roll nunmber': 3,\n",
       "   'Name': 's3',\n",
       "   'Marks': {'Maths': 80,\n",
       "    'English': 90,\n",
       "    'Physics': 70,\n",
       "    'Statics and Dynamics': 90}}}}"
      ]
     },
     "execution_count": 34,
     "metadata": {},
     "output_type": "execute_result"
    }
   ],
   "source": [
    "subject_score_1 = {\"Maths\":100,\"English\":70,\"Physics\":80,\"Theory of Computation\":90}\n",
    "subject_score_2 = {\"Maths\":90,\"English\":80,\"Physics\":90,\"Electronic Devices\":85}\n",
    "subject_score_3 = {\"Maths\":80,\"English\":90,\"Physics\":70,\"Statics and Dynamics\":90}\n",
    "\n",
    "student_1_info = {\"Roll nunmber\":1,\"Name\":\"s1\",\"Marks\":subject_score_1} # 1-level nested dictionary\n",
    "student_2_info = {\"Roll nunmber\":2,\"Name\":\"s2\",\"Marks\":subject_score_2} # 1-level nested dictionary\n",
    "student_3_info = {\"Roll nunmber\":3,\"Name\":\"s3\",\"Marks\":subject_score_3} # 1-level nested dictionary\n",
    "\n",
    "branch_1 = {\"CSE\":student_1_info,\"ECE\":student_2_info} # 2-level nested dictionary\n",
    "branch_2 = {\"ME\":student_3_info} # 2-level nested dictionary\n",
    "\n",
    "batches = {\"2022\":branch_1,\"2023\":branch_2} # 3-level nested dictionary\n",
    "\n",
    "batches"
   ]
  },
  {
   "cell_type": "markdown",
   "metadata": {},
   "source": [
    "#### Question 8"
   ]
  },
  {
   "cell_type": "markdown",
   "metadata": {},
   "source": [
    "Store the same information using Python classes. We have an overall database which is a list of year objects. Each year contains a list of branches. Each branch contains a list of students. Each student has some properties like name, roll number and has marks in some subjects."
   ]
  },
  {
   "cell_type": "code",
   "execution_count": 35,
   "metadata": {},
   "outputs": [
    {
     "data": {
      "text/plain": [
       "100"
      ]
     },
     "execution_count": 35,
     "metadata": {},
     "output_type": "execute_result"
    }
   ],
   "source": [
    "class Student:\n",
    "    def __init__(self,roll_number,name):\n",
    "        self.roll_number = roll_number\n",
    "        self.name = name\n",
    "        self.marks = {}\n",
    "    def add_marks(self,subject,marks):\n",
    "        self.marks[subject] = marks\n",
    "\n",
    "class Branch:\n",
    "    def __init__(self,name):\n",
    "        self.name = name\n",
    "        self.students = []\n",
    "    def add_student(self,student):\n",
    "        self.students.append(student)\n",
    "\n",
    "class Batch:\n",
    "    def __init__(self,year):\n",
    "        self.year = year\n",
    "        self.branches = {}\n",
    "    def add_branch(self,branch):\n",
    "        self.branches[branch.name] = branch\n",
    "\n",
    "batch1 = Batch(\"2022\")\n",
    "batch2 = Batch(\"2023\")\n",
    "\n",
    "branch1 = Branch(\"CSE\")\n",
    "branch2 = Branch(\"ECE\")\n",
    "branch3 = Branch(\"ME\")\n",
    "\n",
    "batch1.add_branch(branch1)\n",
    "batch1.add_branch(branch2)\n",
    "batch2.add_branch(branch3)\n",
    "\n",
    "student1 = Student(1,\"s1\")\n",
    "student2 = Student(2,\"s2\")\n",
    "student3 = Student(3,\"s3\")\n",
    "\n",
    "branch1.add_student(student1)\n",
    "branch2.add_student(student2)\n",
    "branch3.add_student(student3)\n",
    "\n",
    "student1.add_marks(\"Maths\",100)\n",
    "student1.add_marks(\"English\",70)\n",
    "student1.add_marks(\"Physics\",80)\n",
    "student1.add_marks(\"Theory of Computation\",90)\n",
    "\n",
    "student2.add_marks(\"Maths\",90)\n",
    "student2.add_marks(\"English\",80)\n",
    "student2.add_marks(\"Physics\",90)\n",
    "student2.add_marks(\"Electronic Devices\",85)\n",
    "\n",
    "student3.add_marks(\"Maths\",80)\n",
    "student3.add_marks(\"English\",90)\n",
    "student3.add_marks(\"Physics\",70)\n",
    "student3.add_marks(\"Statics and Dynamics\",90)\n",
    "\n",
    "batch1.branches[\"CSE\"].students[0].marks[\"Maths\"]        "
   ]
  },
  {
   "cell_type": "markdown",
   "metadata": {},
   "source": [
    "#### Question 9"
   ]
  },
  {
   "cell_type": "markdown",
   "metadata": {},
   "source": [
    "Using matplotlib plot the following functions on the domain: x = 0.5 to 100.0 in steps of 0.5.  \n",
    "  \n",
    "1. $\\text {y = x}$"
   ]
  },
  {
   "cell_type": "code",
   "execution_count": 36,
   "metadata": {},
   "outputs": [],
   "source": [
    "import matplotlib.pyplot as plt\n",
    "import numpy as np"
   ]
  },
  {
   "cell_type": "code",
   "execution_count": 41,
   "metadata": {},
   "outputs": [
    {
     "data": {
      "image/png": "[encoded data removed]",
      "text/plain": [
       "<Figure size 640x480 with 1 Axes>"
      ]
     },
     "metadata": {},
     "output_type": "display_data"
    }
   ],
   "source": [
    "x = np.arange(0.5,100.5,0.5)\n",
    "y = x\n",
    "plt.plot(x,y)\n",
    "plt.xlabel(\"x\")\n",
    "plt.ylabel(\"y\")\n",
    "plt.title(\"y = x\")\n",
    "plt.show()\n"
   ]
  },
  {
   "cell_type": "markdown",
   "metadata": {},
   "source": [
    "2. $\\text {y = x}^2$"
   ]
  },
  {
   "cell_type": "code",
   "execution_count": 42,
   "metadata": {},
   "outputs": [
    {
     "data": {
      "image/png": "[encoded data removed]",
      "text/plain": [
       "<Figure size 640x480 with 1 Axes>"
      ]
     },
     "metadata": {},
     "output_type": "display_data"
    }
   ],
   "source": [
    "y = x**2\n",
    "plt.plot(x,y)\n",
    "plt.xlabel(\"x\")\n",
    "plt.ylabel(\"y\")\n",
    "plt.title(r\"y = x$^2$\")\n",
    "plt.show()"
   ]
  },
  {
   "cell_type": "code",
   "execution_count": 43,
   "metadata": {},
   "outputs": [
    {
     "data": {
      "image/png": "[encoded data removed]",
      "text/plain": [
       "<Figure size 640x480 with 1 Axes>"
      ]
     },
     "metadata": {},
     "output_type": "display_data"
    }
   ],
   "source": [
    "y = (x**3)/100\n",
    "plt.plot(x,y)\n",
    "plt.xlabel(\"x\")\n",
    "plt.ylabel(\"y\")\n",
    "plt.title(r\"$y = \\frac{x^3}{100}$\")\n",
    "plt.show()"
   ]
  },
  {
   "cell_type": "code",
   "execution_count": 44,
   "metadata": {},
   "outputs": [
    {
     "data": {
      "image/png": "[encoded data removed]",
      "text/plain": [
       "<Figure size 640x480 with 1 Axes>"
      ]
     },
     "metadata": {},
     "output_type": "display_data"
    }
   ],
   "source": [
    "y = np.sin(x)\n",
    "plt.plot(x,y)\n",
    "plt.xlabel(\"x\")\n",
    "plt.ylabel(\"y\")\n",
    "plt.title(r\"y = sin(x)\")\n",
    "plt.show()"
   ]
  },
  {
   "cell_type": "code",
   "execution_count": 45,
   "metadata": {},
   "outputs": [
    {
     "data": {
      "image/png": "[encoded data removed]",
      "text/plain": [
       "<Figure size 640x480 with 1 Axes>"
      ]
     },
     "metadata": {},
     "output_type": "display_data"
    }
   ],
   "source": [
    "y = (np.sin(x)/x)\n",
    "plt.plot(x,y)\n",
    "plt.xlabel(\"x\")\n",
    "plt.ylabel(\"y\")\n",
    "plt.title(r\"y = $\\frac{sin(x)}{x}$\")\n",
    "plt.show()"
   ]
  },
  {
   "cell_type": "code",
   "execution_count": 46,
   "metadata": {},
   "outputs": [
    {
     "data": {
      "image/png": "[encoded data removed]",
      "text/plain": [
       "<Figure size 640x480 with 1 Axes>"
      ]
     },
     "metadata": {},
     "output_type": "display_data"
    }
   ],
   "source": [
    "y = np.log(x)\n",
    "plt.plot(x,y)\n",
    "plt.xlabel(\"x\")\n",
    "plt.ylabel(\"y\")\n",
    "plt.title(r\"y = log(x)\")\n",
    "plt.show()"
   ]
  },
  {
   "cell_type": "code",
   "execution_count": 47,
   "metadata": {},
   "outputs": [
    {
     "data": {
      "image/png": "[encoded data removed]",
      "text/plain": [
       "<Figure size 640x480 with 1 Axes>"
      ]
     },
     "metadata": {},
     "output_type": "display_data"
    }
   ],
   "source": [
    "y = np.exp(x)\n",
    "plt.plot(x,y)\n",
    "plt.xlabel(\"x\")\n",
    "plt.ylabel(\"y\")\n",
    "plt.title(r\"y = e$^x$\")\n",
    "plt.show()"
   ]
  },
  {
   "cell_type": "markdown",
   "metadata": {},
   "source": [
    "#### Question 10"
   ]
  },
  {
   "cell_type": "markdown",
   "metadata": {},
   "source": [
    "Using numpy generate a matrix of size 20X5 containing random numbers drawn uniformly from the range of 1 to 2. Using Pandas create a dataframe out of this matrix. Name the columns of the dataframe as “a”, “b”, “c”, “d”, “e”. Find the column with the highest standard deviation. Find the row with the lowest mean."
   ]
  },
  {
   "cell_type": "code",
   "execution_count": 49,
   "metadata": {},
   "outputs": [
    {
     "data": {
      "text/plain": [
       "(20, 5)"
      ]
     },
     "execution_count": 49,
     "metadata": {},
     "output_type": "execute_result"
    }
   ],
   "source": [
    "A = np.random.uniform(1,2,(20,5))\n",
    "A.shape"
   ]
  },
  {
   "cell_type": "code",
   "execution_count": 51,
   "metadata": {},
   "outputs": [
    {
     "data": {
      "text/html": [
       "<div>\n",
       "<style scoped>\n",
       "    .dataframe tbody tr th:only-of-type {\n",
       "        vertical-align: middle;\n",
       "    }\n",
       "\n",
       "    .dataframe tbody tr th {\n",
       "        vertical-align: top;\n",
       "    }\n",
       "\n",
       "    .dataframe thead th {\n",
       "        text-align: right;\n",
       "    }\n",
       "</style>\n",
       "<table border=\"1\" class=\"dataframe\">\n",
       "  <thead>\n",
       "    <tr style=\"text-align: right;\">\n",
       "      <th></th>\n",
       "      <th>a</th>\n",
       "      <th>b</th>\n",
       "      <th>c</th>\n",
       "      <th>d</th>\n",
       "      <th>e</th>\n",
       "    </tr>\n",
       "  </thead>\n",
       "  <tbody>\n",
       "    <tr>\n",
       "      <th>0</th>\n",
       "      <td>1.206760</td>\n",
       "      <td>1.725670</td>\n",
       "      <td>1.021929</td>\n",
       "      <td>1.007681</td>\n",
       "      <td>1.131152</td>\n",
       "    </tr>\n",
       "    <tr>\n",
       "      <th>1</th>\n",
       "      <td>1.148129</td>\n",
       "      <td>1.351424</td>\n",
       "      <td>1.829610</td>\n",
       "      <td>1.749132</td>\n",
       "      <td>1.194204</td>\n",
       "    </tr>\n",
       "    <tr>\n",
       "      <th>2</th>\n",
       "      <td>1.460634</td>\n",
       "      <td>1.960029</td>\n",
       "      <td>1.119355</td>\n",
       "      <td>1.963918</td>\n",
       "      <td>1.662899</td>\n",
       "    </tr>\n",
       "    <tr>\n",
       "      <th>3</th>\n",
       "      <td>1.691902</td>\n",
       "      <td>1.214333</td>\n",
       "      <td>1.944799</td>\n",
       "      <td>1.407165</td>\n",
       "      <td>1.765732</td>\n",
       "    </tr>\n",
       "    <tr>\n",
       "      <th>4</th>\n",
       "      <td>1.661121</td>\n",
       "      <td>1.450454</td>\n",
       "      <td>1.472291</td>\n",
       "      <td>1.957726</td>\n",
       "      <td>1.419734</td>\n",
       "    </tr>\n",
       "    <tr>\n",
       "      <th>5</th>\n",
       "      <td>1.706200</td>\n",
       "      <td>1.682555</td>\n",
       "      <td>1.581405</td>\n",
       "      <td>1.652181</td>\n",
       "      <td>1.064048</td>\n",
       "    </tr>\n",
       "    <tr>\n",
       "      <th>6</th>\n",
       "      <td>1.020152</td>\n",
       "      <td>1.969601</td>\n",
       "      <td>1.398508</td>\n",
       "      <td>1.301880</td>\n",
       "      <td>1.438534</td>\n",
       "    </tr>\n",
       "    <tr>\n",
       "      <th>7</th>\n",
       "      <td>1.942574</td>\n",
       "      <td>1.313656</td>\n",
       "      <td>1.618026</td>\n",
       "      <td>1.171698</td>\n",
       "      <td>1.463768</td>\n",
       "    </tr>\n",
       "    <tr>\n",
       "      <th>8</th>\n",
       "      <td>1.348555</td>\n",
       "      <td>1.648878</td>\n",
       "      <td>1.749918</td>\n",
       "      <td>1.164776</td>\n",
       "      <td>1.254471</td>\n",
       "    </tr>\n",
       "    <tr>\n",
       "      <th>9</th>\n",
       "      <td>1.774480</td>\n",
       "      <td>1.585353</td>\n",
       "      <td>1.372953</td>\n",
       "      <td>1.856634</td>\n",
       "      <td>1.896348</td>\n",
       "    </tr>\n",
       "    <tr>\n",
       "      <th>10</th>\n",
       "      <td>1.084250</td>\n",
       "      <td>1.321434</td>\n",
       "      <td>1.958501</td>\n",
       "      <td>1.828892</td>\n",
       "      <td>1.579614</td>\n",
       "    </tr>\n",
       "    <tr>\n",
       "      <th>11</th>\n",
       "      <td>1.571065</td>\n",
       "      <td>1.297573</td>\n",
       "      <td>1.425170</td>\n",
       "      <td>1.198803</td>\n",
       "      <td>1.918264</td>\n",
       "    </tr>\n",
       "    <tr>\n",
       "      <th>12</th>\n",
       "      <td>1.413733</td>\n",
       "      <td>1.414675</td>\n",
       "      <td>1.898644</td>\n",
       "      <td>1.142976</td>\n",
       "      <td>1.944626</td>\n",
       "    </tr>\n",
       "    <tr>\n",
       "      <th>13</th>\n",
       "      <td>1.660012</td>\n",
       "      <td>1.774639</td>\n",
       "      <td>1.640809</td>\n",
       "      <td>1.474068</td>\n",
       "      <td>1.273949</td>\n",
       "    </tr>\n",
       "    <tr>\n",
       "      <th>14</th>\n",
       "      <td>1.757348</td>\n",
       "      <td>1.742507</td>\n",
       "      <td>1.462567</td>\n",
       "      <td>1.319854</td>\n",
       "      <td>1.802847</td>\n",
       "    </tr>\n",
       "    <tr>\n",
       "      <th>15</th>\n",
       "      <td>1.584839</td>\n",
       "      <td>1.831130</td>\n",
       "      <td>1.826642</td>\n",
       "      <td>1.245861</td>\n",
       "      <td>1.739754</td>\n",
       "    </tr>\n",
       "    <tr>\n",
       "      <th>16</th>\n",
       "      <td>1.529152</td>\n",
       "      <td>1.077697</td>\n",
       "      <td>1.636418</td>\n",
       "      <td>1.268240</td>\n",
       "      <td>1.806955</td>\n",
       "    </tr>\n",
       "    <tr>\n",
       "      <th>17</th>\n",
       "      <td>1.234754</td>\n",
       "      <td>1.182831</td>\n",
       "      <td>1.108887</td>\n",
       "      <td>1.622209</td>\n",
       "      <td>1.074418</td>\n",
       "    </tr>\n",
       "    <tr>\n",
       "      <th>18</th>\n",
       "      <td>1.793561</td>\n",
       "      <td>1.713990</td>\n",
       "      <td>1.345472</td>\n",
       "      <td>1.136496</td>\n",
       "      <td>1.934215</td>\n",
       "    </tr>\n",
       "    <tr>\n",
       "      <th>19</th>\n",
       "      <td>1.227113</td>\n",
       "      <td>1.185567</td>\n",
       "      <td>1.206665</td>\n",
       "      <td>1.810542</td>\n",
       "      <td>1.754858</td>\n",
       "    </tr>\n",
       "  </tbody>\n",
       "</table>\n",
       "</div>"
      ],
      "text/plain": [
       "           a         b         c         d         e\n",
       "0   1.206760  1.725670  1.021929  1.007681  1.131152\n",
       "1   1.148129  1.351424  1.829610  1.749132  1.194204\n",
       "2   1.460634  1.960029  1.119355  1.963918  1.662899\n",
       "3   1.691902  1.214333  1.944799  1.407165  1.765732\n",
       "4   1.661121  1.450454  1.472291  1.957726  1.419734\n",
       "5   1.706200  1.682555  1.581405  1.652181  1.064048\n",
       "6   1.020152  1.969601  1.398508  1.301880  1.438534\n",
       "7   1.942574  1.313656  1.618026  1.171698  1.463768\n",
       "8   1.348555  1.648878  1.749918  1.164776  1.254471\n",
       "9   1.774480  1.585353  1.372953  1.856634  1.896348\n",
       "10  1.084250  1.321434  1.958501  1.828892  1.579614\n",
       "11  1.571065  1.297573  1.425170  1.198803  1.918264\n",
       "12  1.413733  1.414675  1.898644  1.142976  1.944626\n",
       "13  1.660012  1.774639  1.640809  1.474068  1.273949\n",
       "14  1.757348  1.742507  1.462567  1.319854  1.802847\n",
       "15  1.584839  1.831130  1.826642  1.245861  1.739754\n",
       "16  1.529152  1.077697  1.636418  1.268240  1.806955\n",
       "17  1.234754  1.182831  1.108887  1.622209  1.074418\n",
       "18  1.793561  1.713990  1.345472  1.136496  1.934215\n",
       "19  1.227113  1.185567  1.206665  1.810542  1.754858"
      ]
     },
     "execution_count": 51,
     "metadata": {},
     "output_type": "execute_result"
    }
   ],
   "source": [
    "import pandas as pd\n",
    "\n",
    "df = pd.DataFrame(A)\n",
    "df.columns = [\"a\",\"b\",\"c\",\"d\",\"e\"]\n",
    "df"
   ]
  },
  {
   "cell_type": "code",
   "execution_count": 59,
   "metadata": {},
   "outputs": [
    {
     "name": "stdout",
     "output_type": "stream",
     "text": [
      "Column having highest standard deviation: d, standard deviation: 0.3114458792700338\n"
     ]
    }
   ],
   "source": [
    "standard_deviation = df.std()\n",
    "standard_deviation_highest = standard_deviation.max()\n",
    "print(f\"Column having highest standard deviation: {standard_deviation.idxmax()}, standard deviation: {standard_deviation_highest}\")\n"
   ]
  },
  {
   "cell_type": "code",
   "execution_count": 62,
   "metadata": {},
   "outputs": [
    {
     "name": "stdout",
     "output_type": "stream",
     "text": [
      "Row having lowest mean: 0, mean: 1.2186383316299267\n"
     ]
    }
   ],
   "source": [
    "mean = df.mean(axis=1)\n",
    "mean_lowest = mean.min()\n",
    "print(f\"Row having lowest mean: {mean.idxmin()}, mean: {mean_lowest}\")"
   ]
  },
  {
   "cell_type": "markdown",
   "metadata": {},
   "source": [
    "#### Question 11"
   ]
  },
  {
   "cell_type": "markdown",
   "metadata": {},
   "source": [
    "Add a new column to the dataframe called “f” which is the sum of the columns “a”, “b”, “c”, “d”, “e”. Create another column called “g”. The value in the column “g” should be “LT8” if the value in the column “f” is less than 8 and “GT8” otherwise. Find the number of rows in the dataframe where the value in the column “g” is “LT8”. Find the standard deviation of the column “f” for the rows where the value in the column “g” is “LT8” and “GT8” respectively."
   ]
  },
  {
   "cell_type": "code",
   "execution_count": 72,
   "metadata": {},
   "outputs": [
    {
     "data": {
      "text/html": [
       "<div>\n",
       "<style scoped>\n",
       "    .dataframe tbody tr th:only-of-type {\n",
       "        vertical-align: middle;\n",
       "    }\n",
       "\n",
       "    .dataframe tbody tr th {\n",
       "        vertical-align: top;\n",
       "    }\n",
       "\n",
       "    .dataframe thead th {\n",
       "        text-align: right;\n",
       "    }\n",
       "</style>\n",
       "<table border=\"1\" class=\"dataframe\">\n",
       "  <thead>\n",
       "    <tr style=\"text-align: right;\">\n",
       "      <th></th>\n",
       "      <th>a</th>\n",
       "      <th>b</th>\n",
       "      <th>c</th>\n",
       "      <th>d</th>\n",
       "      <th>e</th>\n",
       "      <th>f</th>\n",
       "      <th>g</th>\n",
       "    </tr>\n",
       "  </thead>\n",
       "  <tbody>\n",
       "    <tr>\n",
       "      <th>0</th>\n",
       "      <td>1.206760</td>\n",
       "      <td>1.725670</td>\n",
       "      <td>1.021929</td>\n",
       "      <td>1.007681</td>\n",
       "      <td>1.131152</td>\n",
       "      <td>6.093192</td>\n",
       "      <td>LT8</td>\n",
       "    </tr>\n",
       "    <tr>\n",
       "      <th>1</th>\n",
       "      <td>1.148129</td>\n",
       "      <td>1.351424</td>\n",
       "      <td>1.829610</td>\n",
       "      <td>1.749132</td>\n",
       "      <td>1.194204</td>\n",
       "      <td>7.272499</td>\n",
       "      <td>LT8</td>\n",
       "    </tr>\n",
       "    <tr>\n",
       "      <th>2</th>\n",
       "      <td>1.460634</td>\n",
       "      <td>1.960029</td>\n",
       "      <td>1.119355</td>\n",
       "      <td>1.963918</td>\n",
       "      <td>1.662899</td>\n",
       "      <td>8.166835</td>\n",
       "      <td>GT8</td>\n",
       "    </tr>\n",
       "    <tr>\n",
       "      <th>3</th>\n",
       "      <td>1.691902</td>\n",
       "      <td>1.214333</td>\n",
       "      <td>1.944799</td>\n",
       "      <td>1.407165</td>\n",
       "      <td>1.765732</td>\n",
       "      <td>8.023931</td>\n",
       "      <td>GT8</td>\n",
       "    </tr>\n",
       "    <tr>\n",
       "      <th>4</th>\n",
       "      <td>1.661121</td>\n",
       "      <td>1.450454</td>\n",
       "      <td>1.472291</td>\n",
       "      <td>1.957726</td>\n",
       "      <td>1.419734</td>\n",
       "      <td>7.961327</td>\n",
       "      <td>LT8</td>\n",
       "    </tr>\n",
       "    <tr>\n",
       "      <th>5</th>\n",
       "      <td>1.706200</td>\n",
       "      <td>1.682555</td>\n",
       "      <td>1.581405</td>\n",
       "      <td>1.652181</td>\n",
       "      <td>1.064048</td>\n",
       "      <td>7.686390</td>\n",
       "      <td>LT8</td>\n",
       "    </tr>\n",
       "    <tr>\n",
       "      <th>6</th>\n",
       "      <td>1.020152</td>\n",
       "      <td>1.969601</td>\n",
       "      <td>1.398508</td>\n",
       "      <td>1.301880</td>\n",
       "      <td>1.438534</td>\n",
       "      <td>7.128676</td>\n",
       "      <td>LT8</td>\n",
       "    </tr>\n",
       "    <tr>\n",
       "      <th>7</th>\n",
       "      <td>1.942574</td>\n",
       "      <td>1.313656</td>\n",
       "      <td>1.618026</td>\n",
       "      <td>1.171698</td>\n",
       "      <td>1.463768</td>\n",
       "      <td>7.509722</td>\n",
       "      <td>LT8</td>\n",
       "    </tr>\n",
       "    <tr>\n",
       "      <th>8</th>\n",
       "      <td>1.348555</td>\n",
       "      <td>1.648878</td>\n",
       "      <td>1.749918</td>\n",
       "      <td>1.164776</td>\n",
       "      <td>1.254471</td>\n",
       "      <td>7.166598</td>\n",
       "      <td>LT8</td>\n",
       "    </tr>\n",
       "    <tr>\n",
       "      <th>9</th>\n",
       "      <td>1.774480</td>\n",
       "      <td>1.585353</td>\n",
       "      <td>1.372953</td>\n",
       "      <td>1.856634</td>\n",
       "      <td>1.896348</td>\n",
       "      <td>8.485768</td>\n",
       "      <td>GT8</td>\n",
       "    </tr>\n",
       "    <tr>\n",
       "      <th>10</th>\n",
       "      <td>1.084250</td>\n",
       "      <td>1.321434</td>\n",
       "      <td>1.958501</td>\n",
       "      <td>1.828892</td>\n",
       "      <td>1.579614</td>\n",
       "      <td>7.772692</td>\n",
       "      <td>LT8</td>\n",
       "    </tr>\n",
       "    <tr>\n",
       "      <th>11</th>\n",
       "      <td>1.571065</td>\n",
       "      <td>1.297573</td>\n",
       "      <td>1.425170</td>\n",
       "      <td>1.198803</td>\n",
       "      <td>1.918264</td>\n",
       "      <td>7.410876</td>\n",
       "      <td>LT8</td>\n",
       "    </tr>\n",
       "    <tr>\n",
       "      <th>12</th>\n",
       "      <td>1.413733</td>\n",
       "      <td>1.414675</td>\n",
       "      <td>1.898644</td>\n",
       "      <td>1.142976</td>\n",
       "      <td>1.944626</td>\n",
       "      <td>7.814654</td>\n",
       "      <td>LT8</td>\n",
       "    </tr>\n",
       "    <tr>\n",
       "      <th>13</th>\n",
       "      <td>1.660012</td>\n",
       "      <td>1.774639</td>\n",
       "      <td>1.640809</td>\n",
       "      <td>1.474068</td>\n",
       "      <td>1.273949</td>\n",
       "      <td>7.823477</td>\n",
       "      <td>LT8</td>\n",
       "    </tr>\n",
       "    <tr>\n",
       "      <th>14</th>\n",
       "      <td>1.757348</td>\n",
       "      <td>1.742507</td>\n",
       "      <td>1.462567</td>\n",
       "      <td>1.319854</td>\n",
       "      <td>1.802847</td>\n",
       "      <td>8.085123</td>\n",
       "      <td>GT8</td>\n",
       "    </tr>\n",
       "    <tr>\n",
       "      <th>15</th>\n",
       "      <td>1.584839</td>\n",
       "      <td>1.831130</td>\n",
       "      <td>1.826642</td>\n",
       "      <td>1.245861</td>\n",
       "      <td>1.739754</td>\n",
       "      <td>8.228226</td>\n",
       "      <td>GT8</td>\n",
       "    </tr>\n",
       "    <tr>\n",
       "      <th>16</th>\n",
       "      <td>1.529152</td>\n",
       "      <td>1.077697</td>\n",
       "      <td>1.636418</td>\n",
       "      <td>1.268240</td>\n",
       "      <td>1.806955</td>\n",
       "      <td>7.318462</td>\n",
       "      <td>LT8</td>\n",
       "    </tr>\n",
       "    <tr>\n",
       "      <th>17</th>\n",
       "      <td>1.234754</td>\n",
       "      <td>1.182831</td>\n",
       "      <td>1.108887</td>\n",
       "      <td>1.622209</td>\n",
       "      <td>1.074418</td>\n",
       "      <td>6.223100</td>\n",
       "      <td>LT8</td>\n",
       "    </tr>\n",
       "    <tr>\n",
       "      <th>18</th>\n",
       "      <td>1.793561</td>\n",
       "      <td>1.713990</td>\n",
       "      <td>1.345472</td>\n",
       "      <td>1.136496</td>\n",
       "      <td>1.934215</td>\n",
       "      <td>7.923733</td>\n",
       "      <td>LT8</td>\n",
       "    </tr>\n",
       "    <tr>\n",
       "      <th>19</th>\n",
       "      <td>1.227113</td>\n",
       "      <td>1.185567</td>\n",
       "      <td>1.206665</td>\n",
       "      <td>1.810542</td>\n",
       "      <td>1.754858</td>\n",
       "      <td>7.184746</td>\n",
       "      <td>LT8</td>\n",
       "    </tr>\n",
       "  </tbody>\n",
       "</table>\n",
       "</div>"
      ],
      "text/plain": [
       "           a         b         c         d         e         f    g\n",
       "0   1.206760  1.725670  1.021929  1.007681  1.131152  6.093192  LT8\n",
       "1   1.148129  1.351424  1.829610  1.749132  1.194204  7.272499  LT8\n",
       "2   1.460634  1.960029  1.119355  1.963918  1.662899  8.166835  GT8\n",
       "3   1.691902  1.214333  1.944799  1.407165  1.765732  8.023931  GT8\n",
       "4   1.661121  1.450454  1.472291  1.957726  1.419734  7.961327  LT8\n",
       "5   1.706200  1.682555  1.581405  1.652181  1.064048  7.686390  LT8\n",
       "6   1.020152  1.969601  1.398508  1.301880  1.438534  7.128676  LT8\n",
       "7   1.942574  1.313656  1.618026  1.171698  1.463768  7.509722  LT8\n",
       "8   1.348555  1.648878  1.749918  1.164776  1.254471  7.166598  LT8\n",
       "9   1.774480  1.585353  1.372953  1.856634  1.896348  8.485768  GT8\n",
       "10  1.084250  1.321434  1.958501  1.828892  1.579614  7.772692  LT8\n",
       "11  1.571065  1.297573  1.425170  1.198803  1.918264  7.410876  LT8\n",
       "12  1.413733  1.414675  1.898644  1.142976  1.944626  7.814654  LT8\n",
       "13  1.660012  1.774639  1.640809  1.474068  1.273949  7.823477  LT8\n",
       "14  1.757348  1.742507  1.462567  1.319854  1.802847  8.085123  GT8\n",
       "15  1.584839  1.831130  1.826642  1.245861  1.739754  8.228226  GT8\n",
       "16  1.529152  1.077697  1.636418  1.268240  1.806955  7.318462  LT8\n",
       "17  1.234754  1.182831  1.108887  1.622209  1.074418  6.223100  LT8\n",
       "18  1.793561  1.713990  1.345472  1.136496  1.934215  7.923733  LT8\n",
       "19  1.227113  1.185567  1.206665  1.810542  1.754858  7.184746  LT8"
      ]
     },
     "execution_count": 72,
     "metadata": {},
     "output_type": "execute_result"
    }
   ],
   "source": [
    "df[\"f\"] = df[\"a\"] + df[\"b\"] + df[\"c\"] + df[\"d\"] + df[\"e\"]\n",
    "df[\"g\"] = np.where(df[\"f\"] < 8, \"LT8\", \"GT8\")\n",
    "df"
   ]
  },
  {
   "cell_type": "code",
   "execution_count": 76,
   "metadata": {},
   "outputs": [
    {
     "name": "stdout",
     "output_type": "stream",
     "text": [
      "Number of rows where column g has value LT8: 15\n",
      "Standard deviation of column f where column g has value LT8: 0.5625395161097227\n",
      "Standard deviation of column f where column g has value GT8: 0.178701269870387\n"
     ]
    }
   ],
   "source": [
    "print(f\"Number of rows where column g has value LT8: {len(df[df['g'] == 'LT8'])}\")\n",
    "print(f\"Standard deviation of column f where column g has value LT8: {df[df['g'] == 'LT8']['f'].std()}\")\n",
    "print(f\"Standard deviation of column f where column g has value GT8: {df[df['g'] == 'GT8']['f'].std()}\")"
   ]
  },
  {
   "cell_type": "markdown",
   "metadata": {},
   "source": [
    "#### Question 12"
   ]
  },
  {
   "cell_type": "markdown",
   "metadata": {},
   "source": [
    "Write a small piece of code to explain broadcasting in numpy."
   ]
  },
  {
   "cell_type": "markdown",
   "metadata": {},
   "source": [
    "##### Answer"
   ]
  },
  {
   "cell_type": "markdown",
   "metadata": {},
   "source": [
    "Numpy broadcasting is a process which occurs when we apply arithmetic operators to numpy arrays having different shapes where the smaller array is repeated itself to match the dimensions."
   ]
  },
  {
   "cell_type": "code",
   "execution_count": 82,
   "metadata": {},
   "outputs": [
    {
     "data": {
      "text/plain": [
       "(array([[6],\n",
       "        [1],\n",
       "        [4],\n",
       "        [4],\n",
       "        [8]]),\n",
       " array([[4, 6, 3, 5, 8],\n",
       "        [7, 9, 9, 2, 7],\n",
       "        [8, 8, 9, 2, 6],\n",
       "        [9, 5, 4, 1, 4],\n",
       "        [6, 1, 3, 4, 9]]),\n",
       " array([[2, 4, 4, 4, 8]]))"
      ]
     },
     "execution_count": 82,
     "metadata": {},
     "output_type": "execute_result"
    }
   ],
   "source": [
    "np.random.seed(0)\n",
    "a = np.random.randint(1,10,(5,1))\n",
    "b = np.random.randint(1,10,(5,5))\n",
    "c = np.random.randint(1,10,(1,5))\n",
    "a,b,c"
   ]
  },
  {
   "cell_type": "code",
   "execution_count": 81,
   "metadata": {},
   "outputs": [
    {
     "data": {
      "text/plain": [
       "array([[10, 12,  9, 11, 14],\n",
       "       [ 8, 10, 10,  3,  8],\n",
       "       [12, 12, 13,  6, 10],\n",
       "       [13,  9,  8,  5,  8],\n",
       "       [14,  9, 11, 12, 17]])"
      ]
     },
     "execution_count": 81,
     "metadata": {},
     "output_type": "execute_result"
    }
   ],
   "source": [
    "# adding a and b even though they do not have same shape\n",
    "a+b  # a is broadcasted to shape of b by repeating itself"
   ]
  },
  {
   "cell_type": "code",
   "execution_count": 83,
   "metadata": {},
   "outputs": [
    {
     "data": {
      "text/plain": [
       "array([[ 6, 10,  7,  9, 16],\n",
       "       [ 9, 13, 13,  6, 15],\n",
       "       [10, 12, 13,  6, 14],\n",
       "       [11,  9,  8,  5, 12],\n",
       "       [ 8,  5,  7,  8, 17]])"
      ]
     },
     "execution_count": 83,
     "metadata": {},
     "output_type": "execute_result"
    }
   ],
   "source": [
    "b+c # c is broadcasted to shape of b by repeating itself"
   ]
  },
  {
   "cell_type": "code",
   "execution_count": 84,
   "metadata": {},
   "outputs": [
    {
     "data": {
      "text/plain": [
       "array([[ 8, 10, 10, 10, 14],\n",
       "       [ 3,  5,  5,  5,  9],\n",
       "       [ 6,  8,  8,  8, 12],\n",
       "       [ 6,  8,  8,  8, 12],\n",
       "       [10, 12, 12, 12, 16]])"
      ]
     },
     "execution_count": 84,
     "metadata": {},
     "output_type": "execute_result"
    }
   ],
   "source": [
    "a+c # a and c are broadcasted to shape of each other by repeating themselves"
   ]
  },
  {
   "cell_type": "code",
   "execution_count": 85,
   "metadata": {},
   "outputs": [
    {
     "data": {
      "text/plain": [
       "array([[ 8],\n",
       "       [ 3],\n",
       "       [ 6],\n",
       "       [ 6],\n",
       "       [10]])"
      ]
     },
     "execution_count": 85,
     "metadata": {},
     "output_type": "execute_result"
    }
   ],
   "source": [
    "d = 2\n",
    "a+d # d is broadcasted to shape of a by repeating itself"
   ]
  },
  {
   "cell_type": "code",
   "execution_count": 86,
   "metadata": {},
   "outputs": [
    {
     "data": {
      "text/plain": [
       "array([[12],\n",
       "       [ 2],\n",
       "       [ 8],\n",
       "       [ 8],\n",
       "       [16]])"
      ]
     },
     "execution_count": 86,
     "metadata": {},
     "output_type": "execute_result"
    }
   ],
   "source": [
    "a*d # d is broadcasted to shape of a by repeating itself"
   ]
  },
  {
   "cell_type": "markdown",
   "metadata": {},
   "source": [
    "Two dimensions are compatible when both of them are equal or when unequal atleast one of them is 1. Numpy compares the shape of the two arrays element-wise and starts with the rightmost element."
   ]
  },
  {
   "cell_type": "code",
   "execution_count": 88,
   "metadata": {},
   "outputs": [
    {
     "data": {
      "text/plain": [
       "(array([[[12, 12, 11],\n",
       "         [13, 14,  4],\n",
       "         [ 9, 14,  7]],\n",
       " \n",
       "        [[ 6,  8, 14],\n",
       "         [ 7, 10,  7],\n",
       "         [ 3, 10, 10]],\n",
       " \n",
       "        [[10,  9, 15],\n",
       "         [11, 11,  8],\n",
       "         [ 7, 11, 11]],\n",
       " \n",
       "        [[10,  9, 12],\n",
       "         [11, 11,  5],\n",
       "         [ 7, 11,  8]],\n",
       " \n",
       "        [[10,  9, 17],\n",
       "         [11, 11, 10],\n",
       "         [ 7, 11, 13]]]),\n",
       " (5, 3, 3))"
      ]
     },
     "execution_count": 88,
     "metadata": {},
     "output_type": "execute_result"
    }
   ],
   "source": [
    "a = np.random.randint(1,10,(5,1,3))\n",
    "b = np.random.randint(1,10,(1,3,3))\n",
    "a+b, (a+b).shape "
   ]
  },
  {
   "cell_type": "markdown",
   "metadata": {},
   "source": [
    "#### Question 13"
   ]
  },
  {
   "cell_type": "markdown",
   "metadata": {},
   "source": [
    "Write a function to compute the argmin of a numpy array. The function should take a numpy array as input and return the index of the minimum element. You can use the np.argmin function to verify your solution."
   ]
  },
  {
   "cell_type": "code",
   "execution_count": 92,
   "metadata": {},
   "outputs": [
    {
     "data": {
      "text/plain": [
       "(5, 5, 1, 1)"
      ]
     },
     "execution_count": 92,
     "metadata": {},
     "output_type": "execute_result"
    }
   ],
   "source": [
    "def argmin(arr):\n",
    "    min = arr[0]\n",
    "    min_index = 0\n",
    "    for i in range(1,len(arr)):\n",
    "        if arr[i] < min:\n",
    "            min = arr[i]\n",
    "            min_index = i\n",
    "    return min_index\n",
    "\n",
    "a = np.array([5,3,6,4,9,1,2,7,8])\n",
    "b = np.array([3,1,4,5,6,2,4,1])\n",
    "argmin(a), np.argmin(a), argmin(b), np.argmin(b)"
   ]
  },
  {
   "cell_type": "markdown",
   "metadata": {},
   "source": [
    "Even if there are two indices with the smallest element in the array, both the functions return the first occurence of the smallest element in the array."
   ]
  },
  {
   "cell_type": "code",
   "execution_count": null,
   "metadata": {},
   "outputs": [],
   "source": []
  }
 ],
 "metadata": {
  "kernelspec": {
   "display_name": "Python 3",
   "language": "python",
   "name": "python3"
  },
  "language_info": {
   "codemirror_mode": {
    "name": "ipython",
    "version": 3
   },
   "file_extension": ".py",
   "mimetype": "text/x-python",
   "name": "python",
   "nbconvert_exporter": "python",
   "pygments_lexer": "ipython3",
   "version": "3.11.4"
  },
  "orig_nbformat": 4
 },
 "nbformat": 4,
 "nbformat_minor": 2
}
